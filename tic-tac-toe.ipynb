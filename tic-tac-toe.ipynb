{
 "cells": [
  {
   "cell_type": "code",
   "execution_count": 1,
   "metadata": {},
   "outputs": [],
   "source": [
    "import numpy as np\n",
    "import matplotlib.pyplot as plt\n",
    "\n",
    "from sklearn.model_selection import train_test_split, GridSearchCV\n",
    "from sklearn.metrics import confusion_matrix, roc_curve, roc_auc_score\n",
    "\n",
    "from tensorflow.keras.models import Sequential\n",
    "from tensorflow.keras.layers import Dense, Dropout\n",
    "from tensorflow.keras.optimizers import SGD\n",
    "from tensorflow.keras.wrappers.scikit_learn import KerasClassifier\n",
    "\n",
    "np.set_printoptions(threshold=np.inf)\n",
    "plt.style.use('ggplot')"
   ]
  },
  {
   "cell_type": "markdown",
   "metadata": {},
   "source": [
    "## ReadDataset"
   ]
  },
  {
   "cell_type": "code",
   "execution_count": 2,
   "metadata": {},
   "outputs": [],
   "source": [
    "arr = np.genfromtxt('tic-tac-toe.data', delimiter=',', dtype='<U1')"
   ]
  },
  {
   "cell_type": "markdown",
   "metadata": {},
   "source": [
    "## Split train&test"
   ]
  },
  {
   "cell_type": "code",
   "execution_count": 3,
   "metadata": {},
   "outputs": [
    {
     "data": {
      "text/plain": [
       "((958, 9), (958,))"
      ]
     },
     "execution_count": 3,
     "metadata": {},
     "output_type": "execute_result"
    }
   ],
   "source": [
    "X = arr[:, :9]\n",
    "y = arr[:, 9]\n",
    "\n",
    "X.shape, y.shape"
   ]
  },
  {
   "cell_type": "markdown",
   "metadata": {},
   "source": [
    "## Rotate"
   ]
  },
  {
   "cell_type": "code",
   "execution_count": 4,
   "metadata": {
    "scrolled": true
   },
   "outputs": [],
   "source": [
    "# X_rotate = []\n",
    "# X_flip_rotate = []\n",
    "\n",
    "# for i in range(4):\n",
    "#     X_matrix = X.reshape(-1, 3, 3)\n",
    "#     X_matrix_flip = np.fliplr(X_matrix)\n",
    "#     for i in range(X_matrix.shape[0]):\n",
    "\n",
    "#         x_rotate = np.rot90(X_matrix[i], i).reshape(-1, 9)\n",
    "#         X_rotate.append(x_rotate)\n",
    "        \n",
    "#         x_flip_rotate = np.rot90(X_matrix_flip[i], i).reshape(-1, 9)\n",
    "#         X_flip_rotate.append(x_flip_rotate)        \n",
    "    \n",
    "# a = np.array(X_rotate).reshape(-1, 9)\n",
    "# b = np.array(X_flip_rotate).reshape(-1, 9)\n",
    "# X = np.append(a, b, axis=0)\n",
    "\n",
    "# y = np.tile(y, 8)\n",
    "\n",
    "# X.shape, y.shape"
   ]
  },
  {
   "cell_type": "markdown",
   "metadata": {},
   "source": [
    "## Remove Duplicate after rotate"
   ]
  },
  {
   "cell_type": "code",
   "execution_count": 5,
   "metadata": {},
   "outputs": [
    {
     "data": {
      "text/plain": [
       "((958, 9), (958,))"
      ]
     },
     "execution_count": 5,
     "metadata": {},
     "output_type": "execute_result"
    }
   ],
   "source": [
    "X, index = np.unique(X, axis=0, return_index=True)\n",
    "y = y[index]\n",
    "\n",
    "X.shape, y.shape"
   ]
  },
  {
   "cell_type": "markdown",
   "metadata": {},
   "source": [
    "## LabelEncoder"
   ]
  },
  {
   "cell_type": "code",
   "execution_count": 6,
   "metadata": {},
   "outputs": [
    {
     "data": {
      "text/plain": [
       "((958, 9), (958, 1))"
      ]
     },
     "execution_count": 6,
     "metadata": {},
     "output_type": "execute_result"
    }
   ],
   "source": [
    "feature = np.unique(X)\n",
    "inx = np.arange(feature.shape[0])\n",
    "search = np.searchsorted(feature, X)\n",
    "X = inx[search]\n",
    "\n",
    "uni = np.unique(y)\n",
    "inx = np.arange(uni.shape[0])\n",
    "search = np.searchsorted(uni, y)\n",
    "y = inx[search].reshape(-1, 1)\n",
    "\n",
    "X.shape, y.shape"
   ]
  },
  {
   "cell_type": "markdown",
   "metadata": {},
   "source": [
    "## OneHotEncoder"
   ]
  },
  {
   "cell_type": "code",
   "execution_count": 7,
   "metadata": {},
   "outputs": [
    {
     "data": {
      "text/plain": [
       "((958, 27), (958, 1))"
      ]
     },
     "execution_count": 7,
     "metadata": {},
     "output_type": "execute_result"
    }
   ],
   "source": [
    "n_feature = feature.shape[0]\n",
    "one_hot = np.zeros((X.shape[0], X.shape[1], n_feature))\n",
    "for i, unique_value in enumerate(np.unique(X)):\n",
    "    one_hot[:, :, i][X == unique_value] = 1\n",
    "\n",
    "X = one_hot.reshape(-1, n_feature*X.shape[1])\n",
    "\n",
    "X.shape, y.shape"
   ]
  },
  {
   "cell_type": "code",
   "execution_count": 8,
   "metadata": {},
   "outputs": [
    {
     "data": {
      "text/plain": [
       "(958, 2)"
      ]
     },
     "execution_count": 8,
     "metadata": {},
     "output_type": "execute_result"
    }
   ],
   "source": [
    "n_feature = 2\n",
    "one_hot = np.zeros((y.shape[0], y.shape[1], n_feature))\n",
    "for i, unique_value in enumerate(np.unique(y)):\n",
    "    one_hot[:, :, i][y == unique_value] = 1\n",
    "\n",
    "y = one_hot.reshape(-1, n_feature*y.shape[1])\n",
    "\n",
    "y.shape"
   ]
  },
  {
   "cell_type": "markdown",
   "metadata": {},
   "source": [
    "## Shuffle"
   ]
  },
  {
   "cell_type": "code",
   "execution_count": 9,
   "metadata": {},
   "outputs": [],
   "source": [
    "# random_state = 0\n",
    "\n",
    "# np.random.seed(random_state)\n",
    "# np.random.shuffle(X)\n",
    "\n",
    "# np.random.seed(random_state)\n",
    "# np.random.shuffle(y)\n",
    "\n",
    "# X.shape, y.shape"
   ]
  },
  {
   "cell_type": "markdown",
   "metadata": {},
   "source": [
    "## Split"
   ]
  },
  {
   "cell_type": "code",
   "execution_count": 10,
   "metadata": {},
   "outputs": [],
   "source": [
    "train_size = 0.8\n",
    "# sample = int(train_split*y.shape[0])\n",
    "\n",
    "# X_train, X_test = X[:sample], X[sample:]\n",
    "# y_train, y_test = y[:sample], y[sample:]\n",
    "\n",
    "# X_train.shape, X_test.shape"
   ]
  },
  {
   "cell_type": "code",
   "execution_count": 11,
   "metadata": {},
   "outputs": [],
   "source": [
    "X_train, X_test, y_train, y_test = train_test_split(X, y, test_size=1 -train_size, random_state=42, stratify=y)"
   ]
  },
  {
   "cell_type": "markdown",
   "metadata": {},
   "source": [
    "## Model"
   ]
  },
  {
   "cell_type": "code",
   "execution_count": 12,
   "metadata": {},
   "outputs": [],
   "source": [
    "def create_model(neurons=(32, 32), lr=0.1, decay=1e-6, momentum=0.8):\n",
    "    model = Sequential()\n",
    "\n",
    "    model.add(Dense(neurons[0], activation='relu', input_shape=(X_train.shape[1:])))\n",
    "    model.add(Dense(neurons[1], activation='relu'))\n",
    "    model.add(Dense(2, activation='sigmoid'))\n",
    "\n",
    "    optimizer = SGD(lr=lr, decay=decay, momentum=momentum, nesterov=True)\n",
    "    model.compile(optimizer=optimizer, loss='binary_crossentropy', metrics=['accuracy'])\n",
    "\n",
    "    return model"
   ]
  },
  {
   "cell_type": "code",
   "execution_count": 13,
   "metadata": {},
   "outputs": [
    {
     "name": "stdout",
     "output_type": "stream",
     "text": [
      "WARNING:tensorflow:From /usr/local/lib/python3.6/dist-packages/tensorflow_core/python/ops/resource_variable_ops.py:1630: calling BaseResourceVariable.__init__ (from tensorflow.python.ops.resource_variable_ops) with constraint is deprecated and will be removed in a future version.\n",
      "Instructions for updating:\n",
      "If using Keras pass *_constraint arguments to layers.\n",
      "WARNING:tensorflow:From /usr/local/lib/python3.6/dist-packages/tensorflow_core/python/ops/nn_impl.py:183: where (from tensorflow.python.ops.array_ops) is deprecated and will be removed in a future version.\n",
      "Instructions for updating:\n",
      "Use tf.where in 2.0, which has the same broadcast rule as np.where\n",
      "Model: \"sequential\"\n",
      "_________________________________________________________________\n",
      "Layer (type)                 Output Shape              Param #   \n",
      "=================================================================\n",
      "dense (Dense)                (None, 32)                896       \n",
      "_________________________________________________________________\n",
      "dense_1 (Dense)              (None, 32)                1056      \n",
      "_________________________________________________________________\n",
      "dense_2 (Dense)              (None, 2)                 66        \n",
      "=================================================================\n",
      "Total params: 2,018\n",
      "Trainable params: 2,018\n",
      "Non-trainable params: 0\n",
      "_________________________________________________________________\n"
     ]
    }
   ],
   "source": [
    "model = create_model()\n",
    "model.summary()"
   ]
  },
  {
   "cell_type": "markdown",
   "metadata": {},
   "source": [
    "## Train"
   ]
  },
  {
   "cell_type": "code",
   "execution_count": 14,
   "metadata": {
    "scrolled": true
   },
   "outputs": [
    {
     "name": "stdout",
     "output_type": "stream",
     "text": [
      "Train on 766 samples, validate on 192 samples\n",
      "Epoch 1/60\n",
      "766/766 [==============================] - 0s 246us/sample - loss: 0.5781 - acc: 0.7037 - val_loss: 0.5108 - val_acc: 0.7031\n",
      "Epoch 2/60\n",
      "766/766 [==============================] - 0s 120us/sample - loss: 0.3959 - acc: 0.8022 - val_loss: 0.4022 - val_acc: 0.7891\n",
      "Epoch 3/60\n",
      "766/766 [==============================] - 0s 113us/sample - loss: 0.2390 - acc: 0.9080 - val_loss: 0.2229 - val_acc: 0.9167\n",
      "Epoch 4/60\n",
      "766/766 [==============================] - 0s 112us/sample - loss: 0.1482 - acc: 0.9556 - val_loss: 0.0531 - val_acc: 0.9818\n",
      "Epoch 5/60\n",
      "766/766 [==============================] - 0s 117us/sample - loss: 0.0887 - acc: 0.9693 - val_loss: 0.3410 - val_acc: 0.8932\n",
      "Epoch 6/60\n",
      "766/766 [==============================] - 0s 110us/sample - loss: 0.0632 - acc: 0.9791 - val_loss: 0.0624 - val_acc: 0.9714\n",
      "Epoch 7/60\n",
      "766/766 [==============================] - 0s 118us/sample - loss: 0.0641 - acc: 0.9798 - val_loss: 0.0355 - val_acc: 0.9896\n",
      "Epoch 8/60\n",
      "766/766 [==============================] - 0s 108us/sample - loss: 0.0510 - acc: 0.9824 - val_loss: 0.0330 - val_acc: 0.9922\n",
      "Epoch 9/60\n",
      "766/766 [==============================] - 0s 108us/sample - loss: 0.0247 - acc: 0.9915 - val_loss: 0.0351 - val_acc: 0.9870\n",
      "Epoch 10/60\n",
      "766/766 [==============================] - 0s 111us/sample - loss: 0.0086 - acc: 0.9974 - val_loss: 0.0223 - val_acc: 0.9896\n",
      "Epoch 11/60\n",
      "766/766 [==============================] - 0s 109us/sample - loss: 0.0017 - acc: 1.0000 - val_loss: 0.0091 - val_acc: 0.9948\n",
      "Epoch 12/60\n",
      "766/766 [==============================] - 0s 108us/sample - loss: 0.0010 - acc: 1.0000 - val_loss: 0.0082 - val_acc: 1.0000\n",
      "Epoch 13/60\n",
      "766/766 [==============================] - 0s 119us/sample - loss: 6.5690e-04 - acc: 1.0000 - val_loss: 0.0075 - val_acc: 1.0000\n",
      "Epoch 14/60\n",
      "766/766 [==============================] - 0s 115us/sample - loss: 5.3718e-04 - acc: 1.0000 - val_loss: 0.0072 - val_acc: 1.0000\n",
      "Epoch 15/60\n",
      "766/766 [==============================] - 0s 117us/sample - loss: 4.5645e-04 - acc: 1.0000 - val_loss: 0.0080 - val_acc: 1.0000\n",
      "Epoch 16/60\n",
      "766/766 [==============================] - 0s 110us/sample - loss: 3.9727e-04 - acc: 1.0000 - val_loss: 0.0071 - val_acc: 1.0000\n",
      "Epoch 17/60\n",
      "766/766 [==============================] - 0s 120us/sample - loss: 3.4727e-04 - acc: 1.0000 - val_loss: 0.0083 - val_acc: 1.0000\n",
      "Epoch 18/60\n",
      "766/766 [==============================] - 0s 114us/sample - loss: 3.2473e-04 - acc: 1.0000 - val_loss: 0.0080 - val_acc: 1.0000\n",
      "Epoch 19/60\n",
      "766/766 [==============================] - 0s 115us/sample - loss: 2.9496e-04 - acc: 1.0000 - val_loss: 0.0076 - val_acc: 1.0000\n",
      "Epoch 20/60\n",
      "766/766 [==============================] - 0s 115us/sample - loss: 2.7125e-04 - acc: 1.0000 - val_loss: 0.0072 - val_acc: 1.0000\n",
      "Epoch 21/60\n",
      "766/766 [==============================] - 0s 109us/sample - loss: 2.4592e-04 - acc: 1.0000 - val_loss: 0.0068 - val_acc: 1.0000\n",
      "Epoch 22/60\n",
      "766/766 [==============================] - 0s 120us/sample - loss: 2.2981e-04 - acc: 1.0000 - val_loss: 0.0073 - val_acc: 1.0000\n",
      "Epoch 23/60\n",
      "766/766 [==============================] - 0s 105us/sample - loss: 2.1680e-04 - acc: 1.0000 - val_loss: 0.0069 - val_acc: 1.0000\n",
      "Epoch 24/60\n",
      "766/766 [==============================] - 0s 108us/sample - loss: 2.0462e-04 - acc: 1.0000 - val_loss: 0.0068 - val_acc: 1.0000\n",
      "Epoch 25/60\n",
      "766/766 [==============================] - 0s 111us/sample - loss: 1.9025e-04 - acc: 1.0000 - val_loss: 0.0067 - val_acc: 1.0000\n",
      "Epoch 26/60\n",
      "766/766 [==============================] - 0s 104us/sample - loss: 1.7899e-04 - acc: 1.0000 - val_loss: 0.0069 - val_acc: 1.0000\n",
      "Epoch 27/60\n",
      "766/766 [==============================] - 0s 110us/sample - loss: 1.6996e-04 - acc: 1.0000 - val_loss: 0.0066 - val_acc: 1.0000\n",
      "Epoch 28/60\n",
      "766/766 [==============================] - 0s 109us/sample - loss: 1.5915e-04 - acc: 1.0000 - val_loss: 0.0072 - val_acc: 1.0000\n",
      "Epoch 29/60\n",
      "766/766 [==============================] - 0s 114us/sample - loss: 1.5463e-04 - acc: 1.0000 - val_loss: 0.0071 - val_acc: 1.0000\n",
      "Epoch 30/60\n",
      "766/766 [==============================] - 0s 113us/sample - loss: 1.4575e-04 - acc: 1.0000 - val_loss: 0.0067 - val_acc: 1.0000\n",
      "Epoch 31/60\n",
      "766/766 [==============================] - 0s 109us/sample - loss: 1.3859e-04 - acc: 1.0000 - val_loss: 0.0068 - val_acc: 1.0000\n",
      "Epoch 32/60\n",
      "766/766 [==============================] - 0s 109us/sample - loss: 1.3358e-04 - acc: 1.0000 - val_loss: 0.0067 - val_acc: 1.0000\n",
      "Epoch 33/60\n",
      "766/766 [==============================] - 0s 109us/sample - loss: 1.2733e-04 - acc: 1.0000 - val_loss: 0.0067 - val_acc: 1.0000\n",
      "Epoch 34/60\n",
      "766/766 [==============================] - 0s 115us/sample - loss: 1.2292e-04 - acc: 1.0000 - val_loss: 0.0066 - val_acc: 1.0000\n",
      "Epoch 35/60\n",
      "766/766 [==============================] - 0s 106us/sample - loss: 1.1711e-04 - acc: 1.0000 - val_loss: 0.0068 - val_acc: 1.0000\n",
      "Epoch 36/60\n",
      "766/766 [==============================] - 0s 104us/sample - loss: 1.1421e-04 - acc: 1.0000 - val_loss: 0.0066 - val_acc: 1.0000\n",
      "Epoch 37/60\n",
      "766/766 [==============================] - 0s 105us/sample - loss: 1.1064e-04 - acc: 1.0000 - val_loss: 0.0065 - val_acc: 1.0000\n",
      "Epoch 38/60\n",
      "766/766 [==============================] - 0s 103us/sample - loss: 1.0584e-04 - acc: 1.0000 - val_loss: 0.0065 - val_acc: 1.0000\n",
      "Epoch 39/60\n",
      "766/766 [==============================] - 0s 103us/sample - loss: 1.0328e-04 - acc: 1.0000 - val_loss: 0.0066 - val_acc: 1.0000\n",
      "Epoch 40/60\n",
      "766/766 [==============================] - 0s 102us/sample - loss: 9.8817e-05 - acc: 1.0000 - val_loss: 0.0066 - val_acc: 1.0000\n",
      "Epoch 41/60\n",
      "766/766 [==============================] - 0s 103us/sample - loss: 9.6244e-05 - acc: 1.0000 - val_loss: 0.0064 - val_acc: 1.0000\n",
      "Epoch 42/60\n",
      "766/766 [==============================] - 0s 105us/sample - loss: 9.3466e-05 - acc: 1.0000 - val_loss: 0.0067 - val_acc: 1.0000\n",
      "Epoch 43/60\n",
      "766/766 [==============================] - 0s 103us/sample - loss: 9.0677e-05 - acc: 1.0000 - val_loss: 0.0067 - val_acc: 1.0000\n",
      "Epoch 44/60\n",
      "766/766 [==============================] - 0s 105us/sample - loss: 8.8152e-05 - acc: 1.0000 - val_loss: 0.0065 - val_acc: 1.0000\n",
      "Epoch 45/60\n",
      "766/766 [==============================] - 0s 106us/sample - loss: 8.5843e-05 - acc: 1.0000 - val_loss: 0.0065 - val_acc: 1.0000\n",
      "Epoch 46/60\n",
      "766/766 [==============================] - 0s 115us/sample - loss: 8.3358e-05 - acc: 1.0000 - val_loss: 0.0066 - val_acc: 1.0000\n",
      "Epoch 47/60\n",
      "766/766 [==============================] - 0s 105us/sample - loss: 8.0857e-05 - acc: 1.0000 - val_loss: 0.0062 - val_acc: 1.0000\n",
      "Epoch 48/60\n",
      "766/766 [==============================] - 0s 116us/sample - loss: 7.8858e-05 - acc: 1.0000 - val_loss: 0.0064 - val_acc: 1.0000\n",
      "Epoch 49/60\n",
      "766/766 [==============================] - 0s 108us/sample - loss: 7.6830e-05 - acc: 1.0000 - val_loss: 0.0062 - val_acc: 1.0000\n",
      "Epoch 50/60\n",
      "766/766 [==============================] - 0s 115us/sample - loss: 7.4811e-05 - acc: 1.0000 - val_loss: 0.0061 - val_acc: 1.0000\n",
      "Epoch 51/60\n",
      "766/766 [==============================] - 0s 113us/sample - loss: 7.3441e-05 - acc: 1.0000 - val_loss: 0.0060 - val_acc: 1.0000\n",
      "Epoch 52/60\n",
      "766/766 [==============================] - 0s 117us/sample - loss: 7.1430e-05 - acc: 1.0000 - val_loss: 0.0062 - val_acc: 1.0000\n",
      "Epoch 53/60\n",
      "766/766 [==============================] - 0s 109us/sample - loss: 6.9894e-05 - acc: 1.0000 - val_loss: 0.0061 - val_acc: 1.0000\n",
      "Epoch 54/60\n",
      "766/766 [==============================] - 0s 109us/sample - loss: 6.8248e-05 - acc: 1.0000 - val_loss: 0.0063 - val_acc: 1.0000\n",
      "Epoch 55/60\n",
      "766/766 [==============================] - 0s 107us/sample - loss: 6.7226e-05 - acc: 1.0000 - val_loss: 0.0062 - val_acc: 1.0000\n",
      "Epoch 56/60\n",
      "766/766 [==============================] - 0s 115us/sample - loss: 6.5378e-05 - acc: 1.0000 - val_loss: 0.0064 - val_acc: 1.0000\n",
      "Epoch 57/60\n",
      "766/766 [==============================] - 0s 114us/sample - loss: 6.4348e-05 - acc: 1.0000 - val_loss: 0.0062 - val_acc: 1.0000\n",
      "Epoch 58/60\n",
      "766/766 [==============================] - 0s 105us/sample - loss: 6.2742e-05 - acc: 1.0000 - val_loss: 0.0062 - val_acc: 1.0000\n",
      "Epoch 59/60\n",
      "766/766 [==============================] - 0s 104us/sample - loss: 6.1249e-05 - acc: 1.0000 - val_loss: 0.0062 - val_acc: 1.0000\n",
      "Epoch 60/60\n",
      "766/766 [==============================] - 0s 107us/sample - loss: 6.0292e-05 - acc: 1.0000 - val_loss: 0.0063 - val_acc: 1.0000\n"
     ]
    }
   ],
   "source": [
    "batch_size = 8\n",
    "epochs = 60\n",
    "\n",
    "history = model.fit(X_train, y_train, batch_size=batch_size, epochs=epochs, validation_data=(X_test, y_test))"
   ]
  },
  {
   "cell_type": "markdown",
   "metadata": {},
   "source": [
    "## Training accuracy and Training Loss Graph "
   ]
  },
  {
   "cell_type": "code",
   "execution_count": 15,
   "metadata": {
    "scrolled": true
   },
   "outputs": [
    {
     "data": {
      "text/plain": [
       "Text(0, 0.5, 'Training loss')"
      ]
     },
     "execution_count": 15,
     "metadata": {},
     "output_type": "execute_result"
    },
    {
     "data": {
      "image/png": "[encoded data removed]",
      "text/plain": [
       "<Figure size 432x288 with 2 Axes>"
      ]
     },
     "metadata": {
      "needs_background": "light"
     },
     "output_type": "display_data"
    }
   ],
   "source": [
    "fig, ax = plt.subplots(2, sharex=True)\n",
    "\n",
    "ax[0].plot(history.history['acc'], label=model)\n",
    "ax[1].plot(history.history['loss'], label=model)\n",
    " \n",
    "ax[0].set_xlabel('epochs')\n",
    "ax[0].set_ylabel('Training accuracy')\n",
    "ax[1].set_ylabel('Training loss')"
   ]
  },
  {
   "cell_type": "markdown",
   "metadata": {},
   "source": [
    "## Evaluate"
   ]
  },
  {
   "cell_type": "code",
   "execution_count": 16,
   "metadata": {},
   "outputs": [
    {
     "name": "stdout",
     "output_type": "stream",
     "text": [
      "192/192 [==============================] - 0s 16us/sample - loss: 0.0063 - acc: 1.0000\n"
     ]
    }
   ],
   "source": [
    "score = model.evaluate(X_test, y_test)"
   ]
  },
  {
   "cell_type": "markdown",
   "metadata": {},
   "source": [
    "## Confusion Matrix"
   ]
  },
  {
   "cell_type": "code",
   "execution_count": 17,
   "metadata": {},
   "outputs": [
    {
     "data": {
      "text/plain": [
       "array([[ 67,   0],\n",
       "       [  0, 125]])"
      ]
     },
     "execution_count": 17,
     "metadata": {},
     "output_type": "execute_result"
    }
   ],
   "source": [
    "y_test_argmax = y_test.argmax(axis=1)\n",
    "y_pred = model.predict_classes(X_test)\n",
    "confusion_matrix(y_test_argmax, y_pred)"
   ]
  },
  {
   "cell_type": "code",
   "execution_count": 18,
   "metadata": {},
   "outputs": [
    {
     "data": {
      "text/plain": [
       "[array([False, False, False, False, False, False, False, False, False,\n",
       "        False, False, False, False, False, False, False, False, False,\n",
       "        False, False, False, False, False, False, False, False, False,\n",
       "        False, False, False, False, False, False, False, False, False,\n",
       "        False, False, False, False, False, False, False, False, False,\n",
       "        False, False, False, False, False, False, False, False, False,\n",
       "        False, False, False, False, False, False, False, False, False,\n",
       "        False, False, False, False, False, False, False, False, False,\n",
       "        False, False, False, False, False, False, False, False, False,\n",
       "        False, False, False, False, False, False, False, False, False,\n",
       "        False, False, False, False, False, False, False, False, False,\n",
       "        False, False, False, False, False, False, False, False, False,\n",
       "        False, False, False, False, False, False, False, False, False,\n",
       "        False, False, False, False, False, False, False, False, False,\n",
       "        False, False, False, False, False, False, False, False, False,\n",
       "        False, False, False, False, False, False, False, False, False,\n",
       "        False, False, False, False, False, False, False, False, False,\n",
       "        False, False, False, False, False, False, False, False, False,\n",
       "        False, False, False, False, False, False, False, False, False,\n",
       "        False, False, False, False, False, False, False, False, False,\n",
       "        False, False, False, False, False, False, False, False, False,\n",
       "        False, False, False])]"
      ]
     },
     "execution_count": 18,
     "metadata": {},
     "output_type": "execute_result"
    }
   ],
   "source": [
    "[y_test_argmax != y_pred]\n",
    "\n",
    "# X_fail.reshape(-1, 3, 3)\n",
    "# X_fail"
   ]
  },
  {
   "cell_type": "markdown",
   "metadata": {},
   "source": [
    "## Receiver Operating Characteristic"
   ]
  },
  {
   "cell_type": "code",
   "execution_count": 19,
   "metadata": {},
   "outputs": [
    {
     "data": {
      "text/plain": [
       "<matplotlib.legend.Legend at 0x7f9428079ef0>"
      ]
     },
     "execution_count": 19,
     "metadata": {},
     "output_type": "execute_result"
    },
    {
     "data": {
      "image/png": "[encoded data removed]",
      "text/plain": [
       "<Figure size 432x288 with 1 Axes>"
      ]
     },
     "metadata": {
      "needs_background": "light"
     },
     "output_type": "display_data"
    }
   ],
   "source": [
    "fpr, tpr, _ = roc_curve(y_test_argmax,  y_pred)\n",
    "auc = roc_auc_score(y_test_argmax, y_pred)\n",
    "\n",
    "plt.plot(fpr, tpr, marker='.', label=f'AUC: {auc}')\n",
    "plt.legend()"
   ]
  },
  {
   "cell_type": "markdown",
   "metadata": {},
   "source": [
    "## GridSearch"
   ]
  },
  {
   "cell_type": "code",
   "execution_count": 20,
   "metadata": {},
   "outputs": [],
   "source": [
    "param_grid = {\n",
    "    'neurons' : [(16, 16), (32, 32)],\n",
    "    'lr' : [0.01, 0.1],\n",
    "    'momentum' : [0.8, 0.9],\n",
    "    'batch_size' : [8, 16],\n",
    "    'epochs' : [40, 60],\n",
    "}"
   ]
  },
  {
   "cell_type": "code",
   "execution_count": 21,
   "metadata": {
    "scrolled": true
   },
   "outputs": [
    {
     "name": "stdout",
     "output_type": "stream",
     "text": [
      "best score:  0.9869365930557251 {'batch_size': 8, 'epochs': 40, 'lr': 0.1, 'momentum': 0.9, 'neurons': (32, 32)}\n",
      "0.9797555327415466 (0.005252152472709251) with: {'batch_size': 8, 'epochs': 40, 'lr': 0.01, 'momentum': 0.8, 'neurons': (16, 16)}\n",
      "0.9692980170249939 (0.016758107824769747) with: {'batch_size': 8, 'epochs': 40, 'lr': 0.01, 'momentum': 0.8, 'neurons': (32, 32)}\n",
      "0.9764960527420044 (0.009792445286038898) with: {'batch_size': 8, 'epochs': 40, 'lr': 0.01, 'momentum': 0.9, 'neurons': (16, 16)}\n",
      "0.9758339643478393 (0.010059532990866883) with: {'batch_size': 8, 'epochs': 40, 'lr': 0.01, 'momentum': 0.9, 'neurons': (32, 32)}\n",
      "0.9719293713569641 (0.006414641855455714) with: {'batch_size': 8, 'epochs': 40, 'lr': 0.1, 'momentum': 0.8, 'neurons': (16, 16)}\n",
      "0.984975802898407 (0.008172248451824037) with: {'batch_size': 8, 'epochs': 40, 'lr': 0.1, 'momentum': 0.8, 'neurons': (32, 32)}\n",
      "0.9738646984100342 (0.02773568229747696) with: {'batch_size': 8, 'epochs': 40, 'lr': 0.1, 'momentum': 0.9, 'neurons': (16, 16)}\n",
      "0.9869365930557251 (0.0058554354602031195) with: {'batch_size': 8, 'epochs': 40, 'lr': 0.1, 'momentum': 0.9, 'neurons': (32, 32)}\n",
      "0.969951617717743 (0.016344485450394644) with: {'batch_size': 8, 'epochs': 60, 'lr': 0.01, 'momentum': 0.8, 'neurons': (16, 16)}\n",
      "0.9660427808761597 (0.00793932812193506) with: {'batch_size': 8, 'epochs': 60, 'lr': 0.01, 'momentum': 0.8, 'neurons': (32, 32)}\n",
      "0.9784483432769775 (0.01005512182368813) with: {'batch_size': 8, 'epochs': 60, 'lr': 0.01, 'momentum': 0.9, 'neurons': (16, 16)}\n",
      "0.9804091215133667 (0.004645681590793474) with: {'batch_size': 8, 'epochs': 60, 'lr': 0.01, 'momentum': 0.9, 'neurons': (32, 32)}\n",
      "0.9751888632774353 (0.011991805334441266) with: {'batch_size': 8, 'epochs': 60, 'lr': 0.1, 'momentum': 0.8, 'neurons': (16, 16)}\n",
      "0.9777862668037415 (0.009795726086864184) with: {'batch_size': 8, 'epochs': 60, 'lr': 0.1, 'momentum': 0.8, 'neurons': (32, 32)}\n",
      "0.9777862668037415 (0.011407503473349463) with: {'batch_size': 8, 'epochs': 60, 'lr': 0.1, 'momentum': 0.9, 'neurons': (16, 16)}\n",
      "0.9797385573387146 (0.013137092718341107) with: {'batch_size': 8, 'epochs': 60, 'lr': 0.1, 'momentum': 0.9, 'neurons': (32, 32)}\n",
      "0.9817163228988648 (0.007633870530252043) with: {'batch_size': 16, 'epochs': 40, 'lr': 0.01, 'momentum': 0.8, 'neurons': (16, 16)}\n",
      "0.9784653186798096 (0.005670981342150716) with: {'batch_size': 16, 'epochs': 40, 'lr': 0.01, 'momentum': 0.8, 'neurons': (32, 32)}\n",
      "0.9738731861114502 (0.009267263286753195) with: {'batch_size': 16, 'epochs': 40, 'lr': 0.01, 'momentum': 0.9, 'neurons': (16, 16)}\n",
      "0.9745267748832702 (0.007307117215068006) with: {'batch_size': 16, 'epochs': 40, 'lr': 0.01, 'momentum': 0.9, 'neurons': (32, 32)}\n",
      "0.9732195854187011 (0.007310146963826684) with: {'batch_size': 16, 'epochs': 40, 'lr': 0.1, 'momentum': 0.8, 'neurons': (16, 16)}\n",
      "0.9823614239692688 (0.007634539562542508) with: {'batch_size': 16, 'epochs': 40, 'lr': 0.1, 'momentum': 0.8, 'neurons': (32, 32)}\n",
      "0.9719208836555481 (0.004935355694794857) with: {'batch_size': 16, 'epochs': 40, 'lr': 0.1, 'momentum': 0.9, 'neurons': (16, 16)}\n",
      "0.9784483432769775 (0.007641135085624534) with: {'batch_size': 16, 'epochs': 40, 'lr': 0.1, 'momentum': 0.9, 'neurons': (32, 32)}\n",
      "0.9804176211357116 (0.0071599526791121075) with: {'batch_size': 16, 'epochs': 60, 'lr': 0.01, 'momentum': 0.8, 'neurons': (16, 16)}\n",
      "0.9751803755760193 (0.012689465620224707) with: {'batch_size': 16, 'epochs': 60, 'lr': 0.01, 'momentum': 0.8, 'neurons': (32, 32)}\n",
      "0.9771411538124084 (0.01014192977530322) with: {'batch_size': 16, 'epochs': 60, 'lr': 0.01, 'momentum': 0.9, 'neurons': (16, 16)}\n",
      "0.9810542345046998 (0.008877689918373005) with: {'batch_size': 16, 'epochs': 60, 'lr': 0.01, 'momentum': 0.9, 'neurons': (32, 32)}\n",
      "0.9738816618919373 (0.009027792250550896) with: {'batch_size': 16, 'epochs': 60, 'lr': 0.1, 'momentum': 0.8, 'neurons': (16, 16)}\n",
      "0.9817078232765197 (0.007350207710653443) with: {'batch_size': 16, 'epochs': 60, 'lr': 0.1, 'momentum': 0.8, 'neurons': (32, 32)}\n",
      "0.9778032422065734 (0.0032230730154353387) with: {'batch_size': 16, 'epochs': 60, 'lr': 0.1, 'momentum': 0.9, 'neurons': (16, 16)}\n",
      "0.9830065369606018 (0.011395813552235425) with: {'batch_size': 16, 'epochs': 60, 'lr': 0.1, 'momentum': 0.9, 'neurons': (32, 32)}\n"
     ]
    }
   ],
   "source": [
    "model = KerasClassifier(build_fn=create_model, epochs=epochs, batch_size=batch_size, verbose=0)\n",
    "grid = GridSearchCV(estimator=model, param_grid=param_grid, n_jobs=-1)\n",
    "grid_result = grid.fit(X_train, y_train)\n",
    "\n",
    "print('best score: ', grid_result.best_score_, grid_result.best_params_)\n",
    "\n",
    "means = grid_result.cv_results_['mean_test_score']\n",
    "stds = grid_result.cv_results_['std_test_score']\n",
    "params = grid_result.cv_results_['params']\n",
    "for mean, stdev, param in zip(means, stds, params):\n",
    "    print(f'{mean} ({stdev}) with: {param}')"
   ]
  },
  {
   "cell_type": "markdown",
   "metadata": {},
   "source": [
    "## Average test accuracy rate in 10 times"
   ]
  },
  {
   "cell_type": "code",
   "execution_count": 22,
   "metadata": {},
   "outputs": [
    {
     "name": "stdout",
     "output_type": "stream",
     "text": [
      "Train - loss: 7.64186740169869e-05 - acc: 1.0\n",
      "192/192 [==============================] - 0s 122us/sample - loss: 0.0210 - acc: 0.9948\n",
      "Train - loss: 4.4702870752941065e-05 - acc: 1.0\n",
      "192/192 [==============================] - 0s 123us/sample - loss: 0.0173 - acc: 0.9948\n",
      "Train - loss: 4.838183896552253e-05 - acc: 1.0\n",
      "192/192 [==============================] - 0s 136us/sample - loss: 0.0076 - acc: 0.9948\n",
      "Train - loss: 5.845538421743656e-05 - acc: 1.0\n",
      "192/192 [==============================] - 0s 150us/sample - loss: 0.0345 - acc: 0.9896\n",
      "Train - loss: 7.092060060306987e-05 - acc: 1.0\n",
      "192/192 [==============================] - 0s 163us/sample - loss: 0.0255 - acc: 0.9896\n",
      "Train - loss: 3.4757463496758375e-05 - acc: 1.0\n",
      "192/192 [==============================] - 0s 193us/sample - loss: 0.0109 - acc: 0.9948\n",
      "Train - loss: 5.369429212197266e-05 - acc: 1.0\n",
      "192/192 [==============================] - 0s 205us/sample - loss: 0.0042 - acc: 1.0000\n",
      "Train - loss: 7.289772931082261e-05 - acc: 1.0\n",
      "192/192 [==============================] - 0s 220us/sample - loss: 0.0468 - acc: 0.9896\n",
      "Train - loss: 4.1905576963447185e-05 - acc: 1.0\n",
      "192/192 [==============================] - 0s 240us/sample - loss: 0.0099 - acc: 0.9948\n",
      "Train - loss: 6.890016469221589e-05 - acc: 1.0\n",
      "192/192 [==============================] - 0s 253us/sample - loss: 0.0225 - acc: 0.9896\n",
      "Train - loss: 6.77376778779245e-05 - acc: 1.0\n",
      "192/192 [==============================] - 0s 283us/sample - loss: 0.0194 - acc: 0.9948\n",
      "Train - loss: 5.532219845566409e-05 - acc: 1.0\n",
      "192/192 [==============================] - 0s 303us/sample - loss: 0.0089 - acc: 0.9974\n"
     ]
    },
    {
     "data": {
      "text/plain": [
       "('Max accuracy rate :',\n",
       " 1.0,\n",
       " 'Avg accuracy rate :',\n",
       " 0.99370664,\n",
       " 'Min accuracy rate :',\n",
       " 0.9895833)"
      ]
     },
     "execution_count": 22,
     "metadata": {},
     "output_type": "execute_result"
    }
   ],
   "source": [
    "scores = []\n",
    "for i in range(12):\n",
    "    model = create_model()\n",
    "    history = model.fit(X_train, y_train, batch_size=batch_size, epochs=epochs, verbose=0)\n",
    "    print(f'Train - loss: {history.history[\"loss\"][-1]} - acc: {history.history[\"acc\"][-1]}')\n",
    "\n",
    "    score = model.evaluate(X_test, y_test)\n",
    "    scores.append(score[1])\n",
    "\n",
    "scores = np.array(scores)\n",
    "\n",
    "'Max accuracy rate :', scores.max(), 'Avg accuracy rate :', np.average(scores), 'Min accuracy rate :', scores.min()"
   ]
  },
  {
   "cell_type": "markdown",
   "metadata": {},
   "source": [
    "## Save Weight"
   ]
  },
  {
   "cell_type": "code",
   "execution_count": 23,
   "metadata": {},
   "outputs": [
    {
     "data": {
      "text/plain": [
       "'{\"class_name\": \"Sequential\", \"config\": {\"name\": \"sequential_13\", \"layers\": [{\"class_name\": \"Dense\", \"config\": {\"name\": \"dense_39\", \"trainable\": true, \"batch_input_shape\": [null, 27], \"dtype\": \"float32\", \"units\": 32, \"activation\": \"relu\", \"use_bias\": true, \"kernel_initializer\": {\"class_name\": \"GlorotUniform\", \"config\": {\"seed\": null, \"dtype\": \"float32\"}}, \"bias_initializer\": {\"class_name\": \"Zeros\", \"config\": {\"dtype\": \"float32\"}}, \"kernel_regularizer\": null, \"bias_regularizer\": null, \"activity_regularizer\": null, \"kernel_constraint\": null, \"bias_constraint\": null}}, {\"class_name\": \"Dense\", \"config\": {\"name\": \"dense_40\", \"trainable\": true, \"dtype\": \"float32\", \"units\": 32, \"activation\": \"relu\", \"use_bias\": true, \"kernel_initializer\": {\"class_name\": \"GlorotUniform\", \"config\": {\"seed\": null, \"dtype\": \"float32\"}}, \"bias_initializer\": {\"class_name\": \"Zeros\", \"config\": {\"dtype\": \"float32\"}}, \"kernel_regularizer\": null, \"bias_regularizer\": null, \"activity_regularizer\": null, \"kernel_constraint\": null, \"bias_constraint\": null}}, {\"class_name\": \"Dense\", \"config\": {\"name\": \"dense_41\", \"trainable\": true, \"dtype\": \"float32\", \"units\": 2, \"activation\": \"sigmoid\", \"use_bias\": true, \"kernel_initializer\": {\"class_name\": \"GlorotUniform\", \"config\": {\"seed\": null, \"dtype\": \"float32\"}}, \"bias_initializer\": {\"class_name\": \"Zeros\", \"config\": {\"dtype\": \"float32\"}}, \"kernel_regularizer\": null, \"bias_regularizer\": null, \"activity_regularizer\": null, \"kernel_constraint\": null, \"bias_constraint\": null}}]}, \"keras_version\": \"2.2.4-tf\", \"backend\": \"tensorflow\"}'"
      ]
     },
     "execution_count": 23,
     "metadata": {},
     "output_type": "execute_result"
    }
   ],
   "source": [
    "model.to_json()"
   ]
  }
 ],
 "metadata": {
  "kernelspec": {
   "display_name": "Python 3",
   "language": "python",
   "name": "python3"
  },
  "language_info": {
   "codemirror_mode": {
    "name": "ipython",
    "version": 3
   },
   "file_extension": ".py",
   "mimetype": "text/x-python",
   "name": "python",
   "nbconvert_exporter": "python",
   "pygments_lexer": "ipython3",
   "version": "3.6.9"
  }
 },
 "nbformat": 4,
 "nbformat_minor": 4
}
