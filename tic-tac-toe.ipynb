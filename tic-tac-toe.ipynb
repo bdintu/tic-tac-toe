{
 "cells": [
  {
   "cell_type": "code",
   "execution_count": 1,
   "metadata": {},
   "outputs": [],
   "source": [
    "import numpy as np\n",
    "import matplotlib.pyplot as plt\n",
    "\n",
    "from sklearn.model_selection import GridSearchCV\n",
    "\n",
    "from tensorflow.keras.models import Sequential\n",
    "from tensorflow.keras.layers import Dense, Dropout\n",
    "from tensorflow.keras.optimizers import SGD\n",
    "from tensorflow.keras.wrappers.scikit_learn import KerasClassifier\n",
    "\n",
    "np.set_printoptions(threshold=np.inf)\n",
    "plt.style.use('ggplot')"
   ]
  },
  {
   "cell_type": "markdown",
   "metadata": {},
   "source": [
    "## ReadDataset"
   ]
  },
  {
   "cell_type": "code",
   "execution_count": 2,
   "metadata": {},
   "outputs": [],
   "source": [
    "arr = np.genfromtxt('tic-tac-toe.data', delimiter=',', dtype='<U1')"
   ]
  },
  {
   "cell_type": "markdown",
   "metadata": {},
   "source": [
    "## Split train&test"
   ]
  },
  {
   "cell_type": "code",
   "execution_count": 3,
   "metadata": {},
   "outputs": [
    {
     "data": {
      "text/plain": [
       "((958, 9), (958,))"
      ]
     },
     "execution_count": 3,
     "metadata": {},
     "output_type": "execute_result"
    }
   ],
   "source": [
    "X = arr[:, :9]\n",
    "y = arr[:, 9]\n",
    "\n",
    "X.shape, y.shape"
   ]
  },
  {
   "cell_type": "markdown",
   "metadata": {},
   "source": [
    "## Rotate"
   ]
  },
  {
   "cell_type": "code",
   "execution_count": 4,
   "metadata": {
    "scrolled": true
   },
   "outputs": [
    {
     "data": {
      "text/plain": [
       "((7664, 9), (7664,))"
      ]
     },
     "execution_count": 4,
     "metadata": {},
     "output_type": "execute_result"
    }
   ],
   "source": [
    "X_rotate = []\n",
    "X_flip_rotate = []\n",
    "\n",
    "for i in range(4):\n",
    "    X_matrix = X.reshape(-1, 3, 3)\n",
    "    X_matrix_flip = np.fliplr(X_matrix)\n",
    "    for i in range(X_matrix.shape[0]):\n",
    "\n",
    "        x_rotate = np.rot90(X_matrix[i], i).reshape(-1, 9)\n",
    "        X_rotate.append(x_rotate)\n",
    "        \n",
    "        x_flip_rotate = np.rot90(X_matrix_flip[i], i).reshape(-1, 9)\n",
    "        X_flip_rotate.append(x_flip_rotate)        \n",
    "    \n",
    "a = np.array(X_rotate).reshape(-1, 9)\n",
    "b = np.array(X_flip_rotate).reshape(-1, 9)\n",
    "X = np.append(a, b, axis=0)\n",
    "\n",
    "y = np.tile(y, 8)\n",
    "\n",
    "X.shape, y.shape"
   ]
  },
  {
   "cell_type": "markdown",
   "metadata": {},
   "source": [
    "## Remove Duplicate after rotate"
   ]
  },
  {
   "cell_type": "code",
   "execution_count": 5,
   "metadata": {},
   "outputs": [
    {
     "data": {
      "text/plain": [
       "((879, 9), (879,))"
      ]
     },
     "execution_count": 5,
     "metadata": {},
     "output_type": "execute_result"
    }
   ],
   "source": [
    "X, index = np.unique(X, axis=0, return_index=True)\n",
    "y = y[index]\n",
    "\n",
    "X.shape, y.shape"
   ]
  },
  {
   "cell_type": "markdown",
   "metadata": {},
   "source": [
    "## Shuffle"
   ]
  },
  {
   "cell_type": "code",
   "execution_count": 6,
   "metadata": {},
   "outputs": [
    {
     "data": {
      "text/plain": [
       "((879, 9), (879,))"
      ]
     },
     "execution_count": 6,
     "metadata": {},
     "output_type": "execute_result"
    }
   ],
   "source": [
    "random_state = 0\n",
    "\n",
    "np.random.seed(random_state)\n",
    "np.random.shuffle(X)\n",
    "\n",
    "np.random.seed(random_state)\n",
    "np.random.shuffle(y)\n",
    "\n",
    "X.shape, y.shape"
   ]
  },
  {
   "cell_type": "markdown",
   "metadata": {},
   "source": [
    "## LabelEncoder"
   ]
  },
  {
   "cell_type": "code",
   "execution_count": 7,
   "metadata": {},
   "outputs": [
    {
     "data": {
      "text/plain": [
       "((879, 9), (879, 1))"
      ]
     },
     "execution_count": 7,
     "metadata": {},
     "output_type": "execute_result"
    }
   ],
   "source": [
    "feature = np.unique(X)\n",
    "inx = np.arange(feature.shape[0])\n",
    "search = np.searchsorted(feature, X)\n",
    "X = inx[search]\n",
    "\n",
    "uni = np.unique(y)\n",
    "inx = np.arange(uni.shape[0])\n",
    "search = np.searchsorted(uni, y)\n",
    "y = inx[search].reshape(-1, 1)\n",
    "\n",
    "X.shape, y.shape"
   ]
  },
  {
   "cell_type": "markdown",
   "metadata": {},
   "source": [
    "## OneHotEncoder"
   ]
  },
  {
   "cell_type": "code",
   "execution_count": 8,
   "metadata": {},
   "outputs": [
    {
     "data": {
      "text/plain": [
       "(879, 27)"
      ]
     },
     "execution_count": 8,
     "metadata": {},
     "output_type": "execute_result"
    }
   ],
   "source": [
    "n_feature = feature.shape[0]\n",
    "one_hot = np.zeros((X.shape[0], X.shape[1], n_feature))\n",
    "for i, unique_value in enumerate(np.unique(X)):\n",
    "    one_hot[:, :, i][X == unique_value] = 1\n",
    "\n",
    "X = one_hot.reshape(-1, n_feature*X.shape[1])\n",
    "\n",
    "X.shape"
   ]
  },
  {
   "cell_type": "markdown",
   "metadata": {},
   "source": [
    "## Split"
   ]
  },
  {
   "cell_type": "code",
   "execution_count": 9,
   "metadata": {},
   "outputs": [
    {
     "data": {
      "text/plain": [
       "((703, 27), (176, 27))"
      ]
     },
     "execution_count": 9,
     "metadata": {},
     "output_type": "execute_result"
    }
   ],
   "source": [
    "train_split = 0.8\n",
    "sample = int(train_split*y.shape[0])\n",
    "\n",
    "X_train, X_test = X[:sample], X[sample:]\n",
    "y_train, y_test = y[:sample], y[sample:]\n",
    "\n",
    "X_train.shape, X_test.shape"
   ]
  },
  {
   "cell_type": "markdown",
   "metadata": {},
   "source": [
    "## Model"
   ]
  },
  {
   "cell_type": "code",
   "execution_count": 10,
   "metadata": {},
   "outputs": [],
   "source": [
    "def create_model(neurons=(16, 16), lr=0.1, momentum=0.8):\n",
    "    model = Sequential()\n",
    "\n",
    "    model.add(Dense(neurons[0], activation='relu', input_shape=(X_train.shape[1:])))\n",
    "    model.add(Dense(neurons[1], activation='relu'))\n",
    "    model.add(Dense(1, activation='sigmoid'))\n",
    "\n",
    "    optimizer = SGD(lr=lr, decay=1e-6, momentum=momentum, nesterov=True)\n",
    "    model.compile(optimizer=optimizer, loss='binary_crossentropy', metrics=['accuracy'])\n",
    "\n",
    "    return model"
   ]
  },
  {
   "cell_type": "code",
   "execution_count": 11,
   "metadata": {},
   "outputs": [
    {
     "name": "stdout",
     "output_type": "stream",
     "text": [
      "WARNING:tensorflow:From /usr/local/lib/python3.6/dist-packages/tensorflow_core/python/ops/resource_variable_ops.py:1630: calling BaseResourceVariable.__init__ (from tensorflow.python.ops.resource_variable_ops) with constraint is deprecated and will be removed in a future version.\n",
      "Instructions for updating:\n",
      "If using Keras pass *_constraint arguments to layers.\n",
      "WARNING:tensorflow:From /usr/local/lib/python3.6/dist-packages/tensorflow_core/python/ops/nn_impl.py:183: where (from tensorflow.python.ops.array_ops) is deprecated and will be removed in a future version.\n",
      "Instructions for updating:\n",
      "Use tf.where in 2.0, which has the same broadcast rule as np.where\n",
      "Model: \"sequential\"\n",
      "_________________________________________________________________\n",
      "Layer (type)                 Output Shape              Param #   \n",
      "=================================================================\n",
      "dense (Dense)                (None, 16)                448       \n",
      "_________________________________________________________________\n",
      "dense_1 (Dense)              (None, 16)                272       \n",
      "_________________________________________________________________\n",
      "dense_2 (Dense)              (None, 1)                 17        \n",
      "=================================================================\n",
      "Total params: 737\n",
      "Trainable params: 737\n",
      "Non-trainable params: 0\n",
      "_________________________________________________________________\n"
     ]
    }
   ],
   "source": [
    "model = create_model()\n",
    "model.summary()"
   ]
  },
  {
   "cell_type": "markdown",
   "metadata": {},
   "source": [
    "## Train"
   ]
  },
  {
   "cell_type": "code",
   "execution_count": 12,
   "metadata": {},
   "outputs": [
    {
     "name": "stdout",
     "output_type": "stream",
     "text": [
      "Train on 703 samples, validate on 176 samples\n",
      "Epoch 1/40\n",
      "703/703 [==============================] - 0s 189us/sample - loss: 0.6456 - acc: 0.6373 - val_loss: 0.5745 - val_acc: 0.7159\n",
      "Epoch 2/40\n",
      "703/703 [==============================] - 0s 62us/sample - loss: 0.5448 - acc: 0.7084 - val_loss: 0.5240 - val_acc: 0.7102\n",
      "Epoch 3/40\n",
      "703/703 [==============================] - 0s 62us/sample - loss: 0.4453 - acc: 0.7767 - val_loss: 0.3952 - val_acc: 0.8011\n",
      "Epoch 4/40\n",
      "703/703 [==============================] - 0s 59us/sample - loss: 0.3174 - acc: 0.8691 - val_loss: 0.2581 - val_acc: 0.8864\n",
      "Epoch 5/40\n",
      "703/703 [==============================] - 0s 59us/sample - loss: 0.2424 - acc: 0.9104 - val_loss: 0.1186 - val_acc: 0.9545\n",
      "Epoch 6/40\n",
      "703/703 [==============================] - 0s 62us/sample - loss: 0.1311 - acc: 0.9644 - val_loss: 0.1047 - val_acc: 0.9659\n",
      "Epoch 7/40\n",
      "703/703 [==============================] - 0s 61us/sample - loss: 0.2219 - acc: 0.9360 - val_loss: 0.0962 - val_acc: 0.9773\n",
      "Epoch 8/40\n",
      "703/703 [==============================] - 0s 67us/sample - loss: 0.1033 - acc: 0.9673 - val_loss: 0.0920 - val_acc: 0.9716\n",
      "Epoch 9/40\n",
      "703/703 [==============================] - 0s 57us/sample - loss: 0.0837 - acc: 0.9730 - val_loss: 0.0688 - val_acc: 0.9886\n",
      "Epoch 10/40\n",
      "703/703 [==============================] - 0s 54us/sample - loss: 0.0591 - acc: 0.9829 - val_loss: 0.0675 - val_acc: 0.9830\n",
      "Epoch 11/40\n",
      "703/703 [==============================] - 0s 58us/sample - loss: 0.0421 - acc: 0.9886 - val_loss: 0.0584 - val_acc: 0.9886\n",
      "Epoch 12/40\n",
      "703/703 [==============================] - 0s 61us/sample - loss: 0.0401 - acc: 0.9844 - val_loss: 0.0687 - val_acc: 0.9886\n",
      "Epoch 13/40\n",
      "703/703 [==============================] - 0s 58us/sample - loss: 0.0384 - acc: 0.9900 - val_loss: 0.0554 - val_acc: 0.9830\n",
      "Epoch 14/40\n",
      "703/703 [==============================] - 0s 62us/sample - loss: 0.0239 - acc: 0.9943 - val_loss: 0.0475 - val_acc: 0.9830\n",
      "Epoch 15/40\n",
      "703/703 [==============================] - 0s 65us/sample - loss: 0.0472 - acc: 0.9829 - val_loss: 0.0751 - val_acc: 0.9886\n",
      "Epoch 16/40\n",
      "703/703 [==============================] - 0s 65us/sample - loss: 0.0288 - acc: 0.9915 - val_loss: 0.0408 - val_acc: 0.9886\n",
      "Epoch 17/40\n",
      "703/703 [==============================] - 0s 62us/sample - loss: 0.0309 - acc: 0.9844 - val_loss: 0.0343 - val_acc: 0.9886\n",
      "Epoch 18/40\n",
      "703/703 [==============================] - 0s 61us/sample - loss: 0.0608 - acc: 0.9758 - val_loss: 0.0805 - val_acc: 0.9716\n",
      "Epoch 19/40\n",
      "703/703 [==============================] - 0s 58us/sample - loss: 0.0406 - acc: 0.9844 - val_loss: 0.0615 - val_acc: 0.9716\n",
      "Epoch 20/40\n",
      "703/703 [==============================] - 0s 55us/sample - loss: 0.0218 - acc: 0.9929 - val_loss: 0.0349 - val_acc: 0.9886\n",
      "Epoch 21/40\n",
      "703/703 [==============================] - 0s 55us/sample - loss: 0.0090 - acc: 0.9986 - val_loss: 0.0117 - val_acc: 0.9886\n",
      "Epoch 22/40\n",
      "703/703 [==============================] - 0s 56us/sample - loss: 0.0282 - acc: 0.9900 - val_loss: 0.0112 - val_acc: 1.0000\n",
      "Epoch 23/40\n",
      "703/703 [==============================] - 0s 60us/sample - loss: 0.0518 - acc: 0.9772 - val_loss: 0.0598 - val_acc: 0.9830\n",
      "Epoch 24/40\n",
      "703/703 [==============================] - 0s 57us/sample - loss: 0.0204 - acc: 0.9886 - val_loss: 0.0720 - val_acc: 0.9716\n",
      "Epoch 25/40\n",
      "703/703 [==============================] - 0s 53us/sample - loss: 0.0259 - acc: 0.9886 - val_loss: 0.0496 - val_acc: 0.9830\n",
      "Epoch 26/40\n",
      "703/703 [==============================] - 0s 55us/sample - loss: 0.0088 - acc: 0.9957 - val_loss: 0.0252 - val_acc: 0.9886\n",
      "Epoch 27/40\n",
      "703/703 [==============================] - 0s 56us/sample - loss: 0.0089 - acc: 0.9972 - val_loss: 0.0324 - val_acc: 0.9943\n",
      "Epoch 28/40\n",
      "703/703 [==============================] - 0s 56us/sample - loss: 0.0140 - acc: 0.9929 - val_loss: 0.0161 - val_acc: 0.9943\n",
      "Epoch 29/40\n",
      "703/703 [==============================] - 0s 55us/sample - loss: 0.0312 - acc: 0.9844 - val_loss: 0.0727 - val_acc: 0.9886\n",
      "Epoch 30/40\n",
      "703/703 [==============================] - 0s 56us/sample - loss: 0.0203 - acc: 0.9915 - val_loss: 0.0514 - val_acc: 0.9886\n",
      "Epoch 31/40\n",
      "703/703 [==============================] - 0s 56us/sample - loss: 0.0074 - acc: 0.9972 - val_loss: 0.0467 - val_acc: 0.9886\n",
      "Epoch 32/40\n",
      "703/703 [==============================] - 0s 57us/sample - loss: 0.0021 - acc: 1.0000 - val_loss: 0.0357 - val_acc: 0.9886\n",
      "Epoch 33/40\n",
      "703/703 [==============================] - 0s 55us/sample - loss: 7.5898e-04 - acc: 1.0000 - val_loss: 0.0345 - val_acc: 0.9886\n",
      "Epoch 34/40\n",
      "703/703 [==============================] - 0s 59us/sample - loss: 5.0421e-04 - acc: 1.0000 - val_loss: 0.0345 - val_acc: 0.9886\n",
      "Epoch 35/40\n",
      "703/703 [==============================] - 0s 56us/sample - loss: 4.0217e-04 - acc: 1.0000 - val_loss: 0.0311 - val_acc: 0.9943\n",
      "Epoch 36/40\n",
      "703/703 [==============================] - 0s 56us/sample - loss: 3.6247e-04 - acc: 1.0000 - val_loss: 0.0324 - val_acc: 0.9943\n",
      "Epoch 37/40\n",
      "703/703 [==============================] - 0s 57us/sample - loss: 3.1565e-04 - acc: 1.0000 - val_loss: 0.0334 - val_acc: 0.9886\n",
      "Epoch 38/40\n",
      "703/703 [==============================] - 0s 55us/sample - loss: 3.0187e-04 - acc: 1.0000 - val_loss: 0.0316 - val_acc: 0.9943\n",
      "Epoch 39/40\n",
      "703/703 [==============================] - 0s 58us/sample - loss: 2.7623e-04 - acc: 1.0000 - val_loss: 0.0321 - val_acc: 0.9943\n",
      "Epoch 40/40\n",
      "703/703 [==============================] - 0s 64us/sample - loss: 2.5289e-04 - acc: 1.0000 - val_loss: 0.0332 - val_acc: 0.9943\n"
     ]
    }
   ],
   "source": [
    "batch_size = 16\n",
    "epochs = 40\n",
    "\n",
    "history = model.fit(X_train, y_train, batch_size=batch_size, epochs=epochs, validation_data=(X_test, y_test))"
   ]
  },
  {
   "cell_type": "markdown",
   "metadata": {},
   "source": [
    "## Training accuracy and Training Loss Graph "
   ]
  },
  {
   "cell_type": "code",
   "execution_count": 13,
   "metadata": {
    "scrolled": true
   },
   "outputs": [
    {
     "data": {
      "text/plain": [
       "Text(0, 0.5, 'Training loss')"
      ]
     },
     "execution_count": 13,
     "metadata": {},
     "output_type": "execute_result"
    },
    {
     "data": {
      "image/png": "[encoded data removed]",
      "text/plain": [
       "<Figure size 432x288 with 2 Axes>"
      ]
     },
     "metadata": {
      "needs_background": "light"
     },
     "output_type": "display_data"
    }
   ],
   "source": [
    "fig, ax = plt.subplots(2, sharex=True)\n",
    "\n",
    "ax[0].plot(history.history['acc'], label=model)\n",
    "ax[1].plot(history.history['loss'], label=model)\n",
    " \n",
    "ax[0].set_xlabel('epochs')\n",
    "ax[0].set_ylabel('Training accuracy')\n",
    "ax[1].set_ylabel('Training loss')"
   ]
  },
  {
   "cell_type": "markdown",
   "metadata": {},
   "source": [
    "## Evaluate"
   ]
  },
  {
   "cell_type": "code",
   "execution_count": 14,
   "metadata": {},
   "outputs": [
    {
     "name": "stdout",
     "output_type": "stream",
     "text": [
      "176/176 [==============================] - 0s 24us/sample - loss: 0.0332 - acc: 0.9943\n"
     ]
    }
   ],
   "source": [
    "score = model.evaluate(X_test, y_test)"
   ]
  },
  {
   "cell_type": "markdown",
   "metadata": {},
   "source": [
    "## GridSearch"
   ]
  },
  {
   "cell_type": "code",
   "execution_count": 15,
   "metadata": {},
   "outputs": [],
   "source": [
    "param_grid = {\n",
    "    'neurons' : [(8, 8), (16, 16)],\n",
    "    'lr' : [0.01, 0.1],\n",
    "    'momentum' : [0.8, 0.9],\n",
    "    'batch_size' : [8, 16],\n",
    "    'epochs' : [40],\n",
    "}"
   ]
  },
  {
   "cell_type": "code",
   "execution_count": 16,
   "metadata": {
    "scrolled": true
   },
   "outputs": [
    {
     "name": "stdout",
     "output_type": "stream",
     "text": [
      "0.981489360332489 {'batch_size': 16, 'epochs': 40, 'lr': 0.1, 'momentum': 0.8, 'neurons': (16, 16)}\n",
      "0.9701418399810791 (0.008233010532322158) with: {'batch_size': 8, 'epochs': 40, 'lr': 0.01, 'momentum': 0.8, 'neurons': (8, 8)}\n",
      "0.9786727428436279 (0.010015752739354278) with: {'batch_size': 8, 'epochs': 40, 'lr': 0.01, 'momentum': 0.8, 'neurons': (16, 16)}\n",
      "0.9686929941177368 (0.012447539965963702) with: {'batch_size': 8, 'epochs': 40, 'lr': 0.01, 'momentum': 0.9, 'neurons': (8, 8)}\n",
      "0.9786524891853332 (0.010087516398055751) with: {'batch_size': 8, 'epochs': 40, 'lr': 0.01, 'momentum': 0.9, 'neurons': (16, 16)}\n",
      "0.9715501666069031 (0.014194904006463288) with: {'batch_size': 8, 'epochs': 40, 'lr': 0.1, 'momentum': 0.8, 'neurons': (8, 8)}\n",
      "0.9758156061172485 (0.003500290352186681) with: {'batch_size': 8, 'epochs': 40, 'lr': 0.1, 'momentum': 0.8, 'neurons': (16, 16)}\n",
      "0.974376893043518 (0.02043147295174164) with: {'batch_size': 8, 'epochs': 40, 'lr': 0.1, 'momentum': 0.9, 'neurons': (8, 8)}\n",
      "0.954569399356842 (0.06661108425885594) with: {'batch_size': 8, 'epochs': 40, 'lr': 0.1, 'momentum': 0.9, 'neurons': (16, 16)}\n",
      "0.9757953524589539 (0.009698352291637746) with: {'batch_size': 16, 'epochs': 40, 'lr': 0.01, 'momentum': 0.8, 'neurons': (8, 8)}\n",
      "0.9786524891853332 (0.00780652520106826) with: {'batch_size': 16, 'epochs': 40, 'lr': 0.01, 'momentum': 0.8, 'neurons': (16, 16)}\n",
      "0.9757852196693421 (0.011623457668392012) with: {'batch_size': 16, 'epochs': 40, 'lr': 0.01, 'momentum': 0.9, 'neurons': (8, 8)}\n",
      "0.9729787230491638 (0.005286347862200757) with: {'batch_size': 16, 'epochs': 40, 'lr': 0.01, 'momentum': 0.9, 'neurons': (16, 16)}\n",
      "0.9573657512664795 (0.018977717656500335) with: {'batch_size': 16, 'epochs': 40, 'lr': 0.1, 'momentum': 0.8, 'neurons': (8, 8)}\n",
      "0.981489360332489 (0.009671386904185505) with: {'batch_size': 16, 'epochs': 40, 'lr': 0.1, 'momentum': 0.8, 'neurons': (16, 16)}\n",
      "0.9630192518234253 (0.013784314047773187) with: {'batch_size': 16, 'epochs': 40, 'lr': 0.1, 'momentum': 0.9, 'neurons': (8, 8)}\n",
      "0.9715197563171387 (0.0101518751506081) with: {'batch_size': 16, 'epochs': 40, 'lr': 0.1, 'momentum': 0.9, 'neurons': (16, 16)}\n"
     ]
    }
   ],
   "source": [
    "model = KerasClassifier(build_fn=create_model, epochs=epochs, batch_size=batch_size, verbose=0)\n",
    "grid = GridSearchCV(estimator=model, param_grid=param_grid, n_jobs=-1)\n",
    "grid_result = grid.fit(X_train, y_train)\n",
    "\n",
    "print(grid_result.best_score_, grid_result.best_params_)\n",
    "\n",
    "means = grid_result.cv_results_['mean_test_score']\n",
    "stds = grid_result.cv_results_['std_test_score']\n",
    "params = grid_result.cv_results_['params']\n",
    "for mean, stdev, param in zip(means, stds, params):\n",
    "    print(f'{mean} ({stdev}) with: {param}')"
   ]
  },
  {
   "cell_type": "markdown",
   "metadata": {},
   "source": [
    "## Average test accuracy rate in 10 times"
   ]
  },
  {
   "cell_type": "code",
   "execution_count": 17,
   "metadata": {},
   "outputs": [
    {
     "name": "stdout",
     "output_type": "stream",
     "text": [
      "Train - loss: 0.0005334856600278245 - acc: 1.0\n",
      "176/176 [==============================] - 0s 120us/sample - loss: 0.0404 - acc: 0.9830\n",
      "Train - loss: 0.0009029298858569246 - acc: 1.0\n",
      "176/176 [==============================] - 0s 130us/sample - loss: 0.0739 - acc: 0.9886\n",
      "Train - loss: 0.00045473195723453615 - acc: 1.0\n",
      "176/176 [==============================] - 0s 148us/sample - loss: 0.0269 - acc: 0.9886\n",
      "Train - loss: 0.00035660695192284196 - acc: 1.0\n",
      "176/176 [==============================] - 0s 164us/sample - loss: 0.0095 - acc: 0.9943\n",
      "Train - loss: 0.0004806314827874303 - acc: 1.0\n",
      "176/176 [==============================] - 0s 176us/sample - loss: 0.0396 - acc: 0.9886\n",
      "Train - loss: 0.0009019561924495215 - acc: 1.0\n",
      "176/176 [==============================] - 0s 195us/sample - loss: 0.0933 - acc: 0.9773\n",
      "Train - loss: 0.0025193482156405603 - acc: 1.0\n",
      "176/176 [==============================] - 0s 209us/sample - loss: 0.0345 - acc: 0.9830\n",
      "Train - loss: 0.000359121065125491 - acc: 1.0\n",
      "176/176 [==============================] - 0s 237us/sample - loss: 0.0392 - acc: 0.9886\n",
      "Train - loss: 0.00044967574334207547 - acc: 1.0\n",
      "176/176 [==============================] - 0s 269us/sample - loss: 0.0095 - acc: 0.9943\n",
      "Train - loss: 0.00039543800047824984 - acc: 1.0\n",
      "176/176 [==============================] - 0s 288us/sample - loss: 0.0629 - acc: 0.9886\n",
      "Train - loss: 0.01147962634694785 - acc: 0.9971550703048706\n",
      "176/176 [==============================] - 0s 321us/sample - loss: 0.0504 - acc: 0.9886\n",
      "Train - loss: 0.0005274039417787443 - acc: 1.0\n",
      "176/176 [==============================] - 0s 318us/sample - loss: 0.0841 - acc: 0.9830\n"
     ]
    },
    {
     "data": {
      "text/plain": [
       "('Max accuracy rate :',\n",
       " 0.9943182,\n",
       " 'Avg accuracy rate :',\n",
       " 0.98721594,\n",
       " 'Min accuracy rate :',\n",
       " 0.97727275)"
      ]
     },
     "execution_count": 17,
     "metadata": {},
     "output_type": "execute_result"
    }
   ],
   "source": [
    "scores = []\n",
    "for i in range(12):\n",
    "    model = create_model()\n",
    "    history = model.fit(X_train, y_train, batch_size=batch_size, epochs=epochs, verbose=0)\n",
    "    print(f'Train - loss: {history.history[\"loss\"][-1]} - acc: {history.history[\"acc\"][-1]}')\n",
    "\n",
    "    score = model.evaluate(X_test, y_test)\n",
    "    scores.append(score[1])\n",
    "\n",
    "scores = np.array(scores)\n",
    "\n",
    "'Max accuracy rate :', scores.max(), 'Avg accuracy rate :', np.average(scores), 'Min accuracy rate :', scores.min()"
   ]
  }
 ],
 "metadata": {
  "kernelspec": {
   "display_name": "Python 3",
   "language": "python",
   "name": "python3"
  },
  "language_info": {
   "codemirror_mode": {
    "name": "ipython",
    "version": 3
   },
   "file_extension": ".py",
   "mimetype": "text/x-python",
   "name": "python",
   "nbconvert_exporter": "python",
   "pygments_lexer": "ipython3",
   "version": "3.6.9"
  }
 },
 "nbformat": 4,
 "nbformat_minor": 4
}
