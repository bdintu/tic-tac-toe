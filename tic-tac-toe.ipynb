{
 "cells": [
  {
   "cell_type": "code",
   "execution_count": 1,
   "metadata": {},
   "outputs": [],
   "source": [
    "import numpy as np\n",
    "import matplotlib.pyplot as plt\n",
    "\n",
    "from sklearn.model_selection import train_test_split, GridSearchCV\n",
    "from sklearn.metrics import confusion_matrix, roc_curve, roc_auc_score\n",
    "\n",
    "from tensorflow.keras.models import Sequential\n",
    "from tensorflow.keras.layers import Dense, Dropout\n",
    "from tensorflow.keras.optimizers import SGD\n",
    "from tensorflow.keras.wrappers.scikit_learn import KerasClassifier\n",
    "\n",
    "np.set_printoptions(threshold=np.inf)\n",
    "plt.style.use('ggplot')"
   ]
  },
  {
   "cell_type": "markdown",
   "metadata": {},
   "source": [
    "## ReadDataset"
   ]
  },
  {
   "cell_type": "code",
   "execution_count": 2,
   "metadata": {},
   "outputs": [],
   "source": [
    "arr = np.genfromtxt('tic-tac-toe.data', delimiter=',', dtype='<U1')"
   ]
  },
  {
   "cell_type": "markdown",
   "metadata": {},
   "source": [
    "## Split train&test"
   ]
  },
  {
   "cell_type": "code",
   "execution_count": 3,
   "metadata": {},
   "outputs": [
    {
     "data": {
      "text/plain": [
       "((958, 9), (958,))"
      ]
     },
     "execution_count": 3,
     "metadata": {},
     "output_type": "execute_result"
    }
   ],
   "source": [
    "X = arr[:, :9]\n",
    "y = arr[:, 9]\n",
    "\n",
    "X.shape, y.shape"
   ]
  },
  {
   "cell_type": "markdown",
   "metadata": {},
   "source": [
    "## Rotate"
   ]
  },
  {
   "cell_type": "code",
   "execution_count": 4,
   "metadata": {
    "scrolled": true
   },
   "outputs": [
    {
     "data": {
      "text/plain": [
       "((7664, 9), (7664,))"
      ]
     },
     "execution_count": 4,
     "metadata": {},
     "output_type": "execute_result"
    }
   ],
   "source": [
    "X_rotate = []\n",
    "X_flip_rotate = []\n",
    "\n",
    "for i in range(4):\n",
    "    X_matrix = X.reshape(-1, 3, 3)\n",
    "    X_matrix_flip = np.fliplr(X_matrix)\n",
    "    for i in range(X_matrix.shape[0]):\n",
    "\n",
    "        x_rotate = np.rot90(X_matrix[i], i).reshape(-1, 9)\n",
    "        X_rotate.append(x_rotate)\n",
    "        \n",
    "        x_flip_rotate = np.rot90(X_matrix_flip[i], i).reshape(-1, 9)\n",
    "        X_flip_rotate.append(x_flip_rotate)        \n",
    "    \n",
    "a = np.array(X_rotate).reshape(-1, 9)\n",
    "b = np.array(X_flip_rotate).reshape(-1, 9)\n",
    "X = np.append(a, b, axis=0)\n",
    "\n",
    "y = np.tile(y, 8)\n",
    "\n",
    "X.shape, y.shape"
   ]
  },
  {
   "cell_type": "markdown",
   "metadata": {},
   "source": [
    "## Remove Duplicate after rotate"
   ]
  },
  {
   "cell_type": "code",
   "execution_count": 5,
   "metadata": {},
   "outputs": [],
   "source": [
    "# X, index = np.unique(X, axis=0, return_index=True)\n",
    "# y = y[index]\n",
    "\n",
    "# X.shape, y.shape"
   ]
  },
  {
   "cell_type": "markdown",
   "metadata": {},
   "source": [
    "## LabelEncoder"
   ]
  },
  {
   "cell_type": "code",
   "execution_count": 6,
   "metadata": {},
   "outputs": [
    {
     "data": {
      "text/plain": [
       "((7664, 9), (7664, 1))"
      ]
     },
     "execution_count": 6,
     "metadata": {},
     "output_type": "execute_result"
    }
   ],
   "source": [
    "feature = np.unique(X)\n",
    "inx = np.arange(feature.shape[0])\n",
    "search = np.searchsorted(feature, X)\n",
    "X = inx[search]\n",
    "\n",
    "uni = np.unique(y)\n",
    "inx = np.arange(uni.shape[0])\n",
    "search = np.searchsorted(uni, y)\n",
    "y = inx[search].reshape(-1, 1)\n",
    "\n",
    "X.shape, y.shape"
   ]
  },
  {
   "cell_type": "markdown",
   "metadata": {},
   "source": [
    "## OneHotEncoder"
   ]
  },
  {
   "cell_type": "code",
   "execution_count": 7,
   "metadata": {},
   "outputs": [
    {
     "data": {
      "text/plain": [
       "(7664, 27)"
      ]
     },
     "execution_count": 7,
     "metadata": {},
     "output_type": "execute_result"
    }
   ],
   "source": [
    "n_feature = feature.shape[0]\n",
    "one_hot = np.zeros((X.shape[0], X.shape[1], n_feature))\n",
    "for i, unique_value in enumerate(np.unique(X)):\n",
    "    one_hot[:, :, i][X == unique_value] = 1\n",
    "\n",
    "X = one_hot.reshape(-1, n_feature*X.shape[1])\n",
    "\n",
    "X.shape"
   ]
  },
  {
   "cell_type": "code",
   "execution_count": 8,
   "metadata": {},
   "outputs": [
    {
     "data": {
      "text/plain": [
       "(7664, 2)"
      ]
     },
     "execution_count": 8,
     "metadata": {},
     "output_type": "execute_result"
    }
   ],
   "source": [
    "n_feature = 2\n",
    "one_hot = np.zeros((y.shape[0], y.shape[1], n_feature))\n",
    "for i, unique_value in enumerate(np.unique(y)):\n",
    "    one_hot[:, :, i][y == unique_value] = 1\n",
    "\n",
    "y = one_hot.reshape(-1, n_feature*y.shape[1])\n",
    "\n",
    "y.shape"
   ]
  },
  {
   "cell_type": "markdown",
   "metadata": {},
   "source": [
    "## Shuffle"
   ]
  },
  {
   "cell_type": "code",
   "execution_count": 9,
   "metadata": {},
   "outputs": [],
   "source": [
    "# random_state = 0\n",
    "\n",
    "# np.random.seed(random_state)\n",
    "# np.random.shuffle(X)\n",
    "\n",
    "# np.random.seed(random_state)\n",
    "# np.random.shuffle(y)\n",
    "\n",
    "# X.shape, y.shape"
   ]
  },
  {
   "cell_type": "markdown",
   "metadata": {},
   "source": [
    "## Split"
   ]
  },
  {
   "cell_type": "code",
   "execution_count": 10,
   "metadata": {},
   "outputs": [],
   "source": [
    "train_size = 0.8\n",
    "# sample = int(train_split*y.shape[0])\n",
    "\n",
    "# X_train, X_test = X[:sample], X[sample:]\n",
    "# y_train, y_test = y[:sample], y[sample:]\n",
    "\n",
    "# X_train.shape, X_test.shape"
   ]
  },
  {
   "cell_type": "code",
   "execution_count": 11,
   "metadata": {},
   "outputs": [
    {
     "data": {
      "text/plain": [
       "((6131, 27), (1533, 27))"
      ]
     },
     "execution_count": 11,
     "metadata": {},
     "output_type": "execute_result"
    }
   ],
   "source": [
    "X_train, X_test, y_train, y_test = train_test_split(X, y, test_size=1 -train_size, random_state=42, stratify=y, shuffle=True)\n",
    "\n",
    "X_train.shape, X_test.shape"
   ]
  },
  {
   "cell_type": "markdown",
   "metadata": {},
   "source": [
    "## Model"
   ]
  },
  {
   "cell_type": "code",
   "execution_count": 12,
   "metadata": {},
   "outputs": [],
   "source": [
    "def create_model(neurons=(27, 9), lr=0.06, decay=1e-6, momentum=0.9):\n",
    "    model = Sequential()\n",
    "\n",
    "    model.add(Dense(neurons[0], activation='relu', input_shape=(X_train.shape[1:])))\n",
    "    model.add(Dense(neurons[1], activation='relu'))\n",
    "    model.add(Dense(2, activation='sigmoid'))\n",
    "\n",
    "    optimizer = SGD(lr=lr, decay=decay, momentum=momentum, nesterov=True)\n",
    "    model.compile(optimizer=optimizer, loss='binary_crossentropy', metrics=['accuracy'])\n",
    "\n",
    "    return model"
   ]
  },
  {
   "cell_type": "code",
   "execution_count": 13,
   "metadata": {},
   "outputs": [
    {
     "name": "stdout",
     "output_type": "stream",
     "text": [
      "WARNING:tensorflow:From /usr/local/lib/python3.6/dist-packages/tensorflow_core/python/ops/resource_variable_ops.py:1630: calling BaseResourceVariable.__init__ (from tensorflow.python.ops.resource_variable_ops) with constraint is deprecated and will be removed in a future version.\n",
      "Instructions for updating:\n",
      "If using Keras pass *_constraint arguments to layers.\n",
      "WARNING:tensorflow:From /usr/local/lib/python3.6/dist-packages/tensorflow_core/python/ops/nn_impl.py:183: where (from tensorflow.python.ops.array_ops) is deprecated and will be removed in a future version.\n",
      "Instructions for updating:\n",
      "Use tf.where in 2.0, which has the same broadcast rule as np.where\n",
      "Model: \"sequential\"\n",
      "_________________________________________________________________\n",
      "Layer (type)                 Output Shape              Param #   \n",
      "=================================================================\n",
      "dense (Dense)                (None, 27)                756       \n",
      "_________________________________________________________________\n",
      "dense_1 (Dense)              (None, 9)                 252       \n",
      "_________________________________________________________________\n",
      "dense_2 (Dense)              (None, 2)                 20        \n",
      "=================================================================\n",
      "Total params: 1,028\n",
      "Trainable params: 1,028\n",
      "Non-trainable params: 0\n",
      "_________________________________________________________________\n"
     ]
    }
   ],
   "source": [
    "model = create_model()\n",
    "model.summary()"
   ]
  },
  {
   "cell_type": "markdown",
   "metadata": {},
   "source": [
    "## Train"
   ]
  },
  {
   "cell_type": "code",
   "execution_count": 14,
   "metadata": {
    "scrolled": true
   },
   "outputs": [
    {
     "name": "stdout",
     "output_type": "stream",
     "text": [
      "Train on 6131 samples, validate on 1533 samples\n",
      "Epoch 1/10\n",
      "6131/6131 [==============================] - 0s 73us/sample - loss: 0.2165 - acc: 0.9004 - val_loss: 0.0316 - val_acc: 0.9899\n",
      "Epoch 2/10\n",
      "6131/6131 [==============================] - 0s 57us/sample - loss: 0.0378 - acc: 0.9873 - val_loss: 0.0244 - val_acc: 0.9905\n",
      "Epoch 3/10\n",
      "6131/6131 [==============================] - 0s 56us/sample - loss: 0.0234 - acc: 0.9925 - val_loss: 0.0191 - val_acc: 0.9928\n",
      "Epoch 4/10\n",
      "6131/6131 [==============================] - 0s 57us/sample - loss: 0.0207 - acc: 0.9918 - val_loss: 0.0112 - val_acc: 0.9961\n",
      "Epoch 5/10\n",
      "6131/6131 [==============================] - 0s 57us/sample - loss: 0.0171 - acc: 0.9937 - val_loss: 0.0096 - val_acc: 0.9935\n",
      "Epoch 6/10\n",
      "6131/6131 [==============================] - 0s 55us/sample - loss: 0.0014 - acc: 0.9998 - val_loss: 4.5921e-04 - val_acc: 1.0000\n",
      "Epoch 7/10\n",
      "6131/6131 [==============================] - 0s 54us/sample - loss: 3.0626e-04 - acc: 1.0000 - val_loss: 1.5923e-04 - val_acc: 1.0000\n",
      "Epoch 8/10\n",
      "6131/6131 [==============================] - 0s 57us/sample - loss: 1.6993e-04 - acc: 1.0000 - val_loss: 1.2162e-04 - val_acc: 1.0000\n",
      "Epoch 9/10\n",
      "6131/6131 [==============================] - 0s 56us/sample - loss: 1.3256e-04 - acc: 1.0000 - val_loss: 9.9033e-05 - val_acc: 1.0000\n",
      "Epoch 10/10\n",
      "6131/6131 [==============================] - 0s 54us/sample - loss: 1.0989e-04 - acc: 1.0000 - val_loss: 8.4780e-05 - val_acc: 1.0000\n"
     ]
    }
   ],
   "source": [
    "batch_size = 16\n",
    "epochs = 10\n",
    "\n",
    "history = model.fit(X_train, y_train, batch_size=batch_size, epochs=epochs, validation_data=(X_test, y_test))"
   ]
  },
  {
   "cell_type": "markdown",
   "metadata": {},
   "source": [
    "## Training accuracy and Training Loss Graph "
   ]
  },
  {
   "cell_type": "code",
   "execution_count": 15,
   "metadata": {
    "scrolled": true
   },
   "outputs": [
    {
     "data": {
      "text/plain": [
       "Text(0, 0.5, 'Training loss')"
      ]
     },
     "execution_count": 15,
     "metadata": {},
     "output_type": "execute_result"
    },
    {
     "data": {
      "image/png": "[encoded data removed]",
      "text/plain": [
       "<Figure size 432x288 with 2 Axes>"
      ]
     },
     "metadata": {
      "needs_background": "light"
     },
     "output_type": "display_data"
    }
   ],
   "source": [
    "fig, ax = plt.subplots(2, sharex=True)\n",
    "\n",
    "ax[0].plot(history.history['acc'], label=model)\n",
    "ax[1].plot(history.history['loss'], label=model)\n",
    " \n",
    "ax[0].set_xlabel('epochs')\n",
    "ax[0].set_ylabel('Training accuracy')\n",
    "ax[1].set_ylabel('Training loss')"
   ]
  },
  {
   "cell_type": "markdown",
   "metadata": {},
   "source": [
    "## Evaluate"
   ]
  },
  {
   "cell_type": "code",
   "execution_count": 16,
   "metadata": {},
   "outputs": [
    {
     "name": "stdout",
     "output_type": "stream",
     "text": [
      "1533/1533 [==============================] - 0s 12us/sample - loss: 8.4780e-05 - acc: 1.0000\n"
     ]
    }
   ],
   "source": [
    "score = model.evaluate(X_test, y_test)"
   ]
  },
  {
   "cell_type": "markdown",
   "metadata": {},
   "source": [
    "## Confusion Matrix"
   ]
  },
  {
   "cell_type": "code",
   "execution_count": 17,
   "metadata": {},
   "outputs": [
    {
     "data": {
      "text/plain": [
       "array([[ 531,    0],\n",
       "       [   0, 1002]])"
      ]
     },
     "execution_count": 17,
     "metadata": {},
     "output_type": "execute_result"
    }
   ],
   "source": [
    "y_test_argmax = y_test.argmax(axis=1)\n",
    "y_pred = model.predict_classes(X_test)\n",
    "confusion_matrix(y_test_argmax, y_pred)"
   ]
  },
  {
   "cell_type": "code",
   "execution_count": 18,
   "metadata": {},
   "outputs": [],
   "source": [
    "def covent_to_matrix(index):\n",
    "    aaa = X_test[index].reshape(-1, 3).argmax(axis=1).astype('U1')\n",
    "    for j, unique_value in enumerate(feature):\n",
    "        aaa[aaa==str(j)] = unique_value\n",
    "\n",
    "    return aaa.reshape(-1, 3)"
   ]
  },
  {
   "cell_type": "code",
   "execution_count": 19,
   "metadata": {},
   "outputs": [],
   "source": [
    "x_failed_index = np.where(y_test_argmax != y_pred)[0]\n",
    "for i in x_failed_index:\n",
    "    print(f'index {i}, y_test {y_test_argmax[i]}, y_pred {y_pred[i]}')\n",
    "    print(covent_to_matrix(i))"
   ]
  },
  {
   "cell_type": "markdown",
   "metadata": {},
   "source": [
    "## Receiver Operating Characteristic"
   ]
  },
  {
   "cell_type": "code",
   "execution_count": 20,
   "metadata": {},
   "outputs": [
    {
     "data": {
      "text/plain": [
       "<matplotlib.legend.Legend at 0x7f3190364b00>"
      ]
     },
     "execution_count": 20,
     "metadata": {},
     "output_type": "execute_result"
    },
    {
     "data": {
      "image/png": "[encoded data removed]",
      "text/plain": [
       "<Figure size 432x288 with 1 Axes>"
      ]
     },
     "metadata": {
      "needs_background": "light"
     },
     "output_type": "display_data"
    }
   ],
   "source": [
    "fpr, tpr, _ = roc_curve(y_test_argmax,  y_pred)\n",
    "auc = roc_auc_score(y_test_argmax, y_pred)\n",
    "\n",
    "plt.plot(fpr, tpr, marker='.', label=f'AUC: {auc}')\n",
    "plt.legend()"
   ]
  },
  {
   "cell_type": "markdown",
   "metadata": {},
   "source": [
    "## GridSearch"
   ]
  },
  {
   "cell_type": "code",
   "execution_count": 21,
   "metadata": {},
   "outputs": [],
   "source": [
    "param_grid = {\n",
    "    'neurons' : [(16, 16), (32, 32)],\n",
    "    'lr' : [0.01, 0.1],\n",
    "    'momentum' : [0.8, 0.9],\n",
    "    'batch_size' : [8, 16],\n",
    "    'epochs' : [40, 60],\n",
    "}"
   ]
  },
  {
   "cell_type": "code",
   "execution_count": 22,
   "metadata": {
    "scrolled": true
   },
   "outputs": [],
   "source": [
    "# model = KerasClassifier(build_fn=create_model, epochs=epochs, batch_size=batch_size, verbose=0)\n",
    "# grid = GridSearchCV(estimator=model, param_grid=param_grid, n_jobs=-1)\n",
    "# grid_result = grid.fit(X_train, y_train)\n",
    "\n",
    "# print('best score: ', grid_result.best_score_, grid_result.best_params_)\n",
    "\n",
    "# means = grid_result.cv_results_['mean_test_score']\n",
    "# stds = grid_result.cv_results_['std_test_score']\n",
    "# params = grid_result.cv_results_['params']\n",
    "# for mean, stdev, param in zip(means, stds, params):\n",
    "#     print(f'{mean} ({stdev}) with: {param}')"
   ]
  },
  {
   "cell_type": "markdown",
   "metadata": {},
   "source": [
    "## Average test accuracy rate in 12 times"
   ]
  },
  {
   "cell_type": "code",
   "execution_count": 23,
   "metadata": {},
   "outputs": [
    {
     "name": "stdout",
     "output_type": "stream",
     "text": [
      "Train - loss: 8.649887878864042e-05 - acc: 1.0\n",
      "1533/1533 [==============================] - 0s 23us/sample - loss: 8.8682e-05 - acc: 1.0000\n",
      "index failed: []\n",
      "Train - loss: 8.12868779535553e-05 - acc: 1.0\n",
      "1533/1533 [==============================] - 0s 23us/sample - loss: 7.7196e-05 - acc: 1.0000\n",
      "index failed: []\n",
      "Train - loss: 7.548013920931975e-05 - acc: 1.0\n",
      "1533/1533 [==============================] - 0s 25us/sample - loss: 7.3639e-05 - acc: 1.0000\n",
      "index failed: []\n",
      "Train - loss: 9.601526072603211e-05 - acc: 1.0\n",
      "1533/1533 [==============================] - 0s 29us/sample - loss: 8.1793e-05 - acc: 1.0000\n",
      "index failed: []\n",
      "Train - loss: 9.454216125837708e-05 - acc: 1.0\n",
      "1533/1533 [==============================] - 0s 28us/sample - loss: 9.3348e-05 - acc: 1.0000\n",
      "index failed: []\n",
      "Train - loss: 0.0007604204307135055 - acc: 1.0\n",
      "1533/1533 [==============================] - 0s 31us/sample - loss: 8.7252e-05 - acc: 1.0000\n",
      "index failed: []\n",
      "Train - loss: 0.00011308853291893127 - acc: 1.0\n",
      "1533/1533 [==============================] - 0s 38us/sample - loss: 8.9632e-05 - acc: 1.0000\n",
      "index failed: []\n",
      "Train - loss: 9.258311276118218e-05 - acc: 1.0\n",
      "1533/1533 [==============================] - 0s 42us/sample - loss: 7.0695e-05 - acc: 1.0000\n",
      "index failed: []\n",
      "Train - loss: 0.0001147439276341764 - acc: 1.0\n",
      "1533/1533 [==============================] - 0s 41us/sample - loss: 9.0642e-05 - acc: 1.0000\n",
      "index failed: []\n",
      "Train - loss: 9.970351406271331e-05 - acc: 1.0\n",
      "1533/1533 [==============================] - 0s 43us/sample - loss: 8.8273e-05 - acc: 1.0000\n",
      "index failed: []\n",
      "Train - loss: 8.186767244359983e-05 - acc: 1.0\n",
      "1533/1533 [==============================] - 0s 49us/sample - loss: 8.4949e-05 - acc: 1.0000\n",
      "index failed: []\n",
      "Train - loss: 8.733164633086107e-05 - acc: 1.0\n",
      "1533/1533 [==============================] - 0s 52us/sample - loss: 8.2933e-05 - acc: 1.0000\n",
      "index failed: []\n"
     ]
    },
    {
     "data": {
      "text/plain": [
       "('Max accuracy rate :',\n",
       " 1.0,\n",
       " 'Avg accuracy rate :',\n",
       " 1.0,\n",
       " 'Min accuracy rate :',\n",
       " 1.0)"
      ]
     },
     "execution_count": 23,
     "metadata": {},
     "output_type": "execute_result"
    }
   ],
   "source": [
    "scores = []\n",
    "\n",
    "for i in range(12):\n",
    "    model = create_model()\n",
    "    history = model.fit(X_train, y_train, batch_size=batch_size, epochs=epochs, verbose=0)\n",
    "    print(f'Train - loss: {history.history[\"loss\"][-1]} - acc: {history.history[\"acc\"][-1]}')\n",
    "\n",
    "    score = model.evaluate(X_test, y_test)\n",
    "    scores.append(score[1])\n",
    "          \n",
    "    y_pred = model.predict_classes(X_test)\n",
    "    x_failed_index = np.where(y_test_argmax != y_pred)[0]\n",
    "          \n",
    "    print('index failed:', x_failed_index)\n",
    "    for i in x_failed_index:\n",
    "        print(f'index {i}, y_test {y_test_argmax[i]}, y_pred {y_pred[i]}')\n",
    "        print(covent_to_matrix(i))\n",
    "\n",
    "scores = np.array(scores)\n",
    "'Max accuracy rate :', scores.max(), 'Avg accuracy rate :', np.average(scores), 'Min accuracy rate :', scores.min()"
   ]
  },
  {
   "cell_type": "markdown",
   "metadata": {},
   "source": [
    "## Save Weight"
   ]
  },
  {
   "cell_type": "code",
   "execution_count": 24,
   "metadata": {},
   "outputs": [],
   "source": [
    "model.save_weights(\"model.h5\")"
   ]
  }
 ],
 "metadata": {
  "kernelspec": {
   "display_name": "Python 3",
   "language": "python",
   "name": "python3"
  },
  "language_info": {
   "codemirror_mode": {
    "name": "ipython",
    "version": 3
   },
   "file_extension": ".py",
   "mimetype": "text/x-python",
   "name": "python",
   "nbconvert_exporter": "python",
   "pygments_lexer": "ipython3",
   "version": "3.6.9"
  }
 },
 "nbformat": 4,
 "nbformat_minor": 4
}
