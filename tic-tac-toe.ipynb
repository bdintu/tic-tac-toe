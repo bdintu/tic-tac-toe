{
 "cells": [
  {
   "cell_type": "code",
   "execution_count": 1,
   "metadata": {},
   "outputs": [],
   "source": [
    "import numpy as np\n",
    "import matplotlib.pyplot as plt\n",
    "\n",
    "from sklearn.model_selection import train_test_split, GridSearchCV\n",
    "from sklearn.metrics import confusion_matrix, roc_curve, roc_auc_score\n",
    "\n",
    "from tensorflow.keras.models import Sequential\n",
    "from tensorflow.keras.layers import Dense, Dropout\n",
    "from tensorflow.keras.optimizers import SGD\n",
    "from tensorflow.keras.wrappers.scikit_learn import KerasClassifier\n",
    "\n",
    "np.set_printoptions(threshold=np.inf)\n",
    "plt.style.use('ggplot')"
   ]
  },
  {
   "cell_type": "markdown",
   "metadata": {},
   "source": [
    "## ReadDataset"
   ]
  },
  {
   "cell_type": "code",
   "execution_count": 2,
   "metadata": {},
   "outputs": [],
   "source": [
    "arr = np.genfromtxt('tic-tac-toe.data', delimiter=',', dtype='<U1')"
   ]
  },
  {
   "cell_type": "markdown",
   "metadata": {},
   "source": [
    "## Split train&test"
   ]
  },
  {
   "cell_type": "code",
   "execution_count": 3,
   "metadata": {},
   "outputs": [
    {
     "data": {
      "text/plain": [
       "((958, 9), (958,))"
      ]
     },
     "execution_count": 3,
     "metadata": {},
     "output_type": "execute_result"
    }
   ],
   "source": [
    "X = arr[:, :9]\n",
    "y = arr[:, 9]\n",
    "\n",
    "X.shape, y.shape"
   ]
  },
  {
   "cell_type": "markdown",
   "metadata": {},
   "source": [
    "## Rotate"
   ]
  },
  {
   "cell_type": "code",
   "execution_count": 4,
   "metadata": {
    "scrolled": true
   },
   "outputs": [],
   "source": [
    "# X_rotate = []\n",
    "# X_flip_rotate = []\n",
    "\n",
    "# for i in range(4):\n",
    "#     X_matrix = X.reshape(-1, 3, 3)\n",
    "#     X_matrix_flip = np.fliplr(X_matrix)\n",
    "#     for i in range(X_matrix.shape[0]):\n",
    "\n",
    "#         x_rotate = np.rot90(X_matrix[i], i).reshape(-1, 9)\n",
    "#         X_rotate.append(x_rotate)\n",
    "        \n",
    "#         x_flip_rotate = np.rot90(X_matrix_flip[i], i).reshape(-1, 9)\n",
    "#         X_flip_rotate.append(x_flip_rotate)        \n",
    "    \n",
    "# a = np.array(X_rotate).reshape(-1, 9)\n",
    "# b = np.array(X_flip_rotate).reshape(-1, 9)\n",
    "# X = np.append(a, b, axis=0)\n",
    "\n",
    "# y = np.tile(y, 8)\n",
    "\n",
    "# X.shape, y.shape"
   ]
  },
  {
   "cell_type": "markdown",
   "metadata": {},
   "source": [
    "## Remove Duplicate after rotate"
   ]
  },
  {
   "cell_type": "code",
   "execution_count": 5,
   "metadata": {},
   "outputs": [
    {
     "data": {
      "text/plain": [
       "((958, 9), (958,))"
      ]
     },
     "execution_count": 5,
     "metadata": {},
     "output_type": "execute_result"
    }
   ],
   "source": [
    "X, index = np.unique(X, axis=0, return_index=True)\n",
    "y = y[index]\n",
    "\n",
    "X.shape, y.shape"
   ]
  },
  {
   "cell_type": "markdown",
   "metadata": {},
   "source": [
    "## LabelEncoder"
   ]
  },
  {
   "cell_type": "code",
   "execution_count": 6,
   "metadata": {},
   "outputs": [
    {
     "data": {
      "text/plain": [
       "((958, 9), (958, 1))"
      ]
     },
     "execution_count": 6,
     "metadata": {},
     "output_type": "execute_result"
    }
   ],
   "source": [
    "feature = np.unique(X)\n",
    "inx = np.arange(feature.shape[0])\n",
    "search = np.searchsorted(feature, X)\n",
    "X = inx[search]\n",
    "\n",
    "uni = np.unique(y)\n",
    "inx = np.arange(uni.shape[0])\n",
    "search = np.searchsorted(uni, y)\n",
    "y = inx[search].reshape(-1, 1)\n",
    "\n",
    "X.shape, y.shape"
   ]
  },
  {
   "cell_type": "markdown",
   "metadata": {},
   "source": [
    "## OneHotEncoder"
   ]
  },
  {
   "cell_type": "code",
   "execution_count": 7,
   "metadata": {},
   "outputs": [
    {
     "data": {
      "text/plain": [
       "(958, 27)"
      ]
     },
     "execution_count": 7,
     "metadata": {},
     "output_type": "execute_result"
    }
   ],
   "source": [
    "n_feature = feature.shape[0]\n",
    "one_hot = np.zeros((X.shape[0], X.shape[1], n_feature))\n",
    "for i, unique_value in enumerate(np.unique(X)):\n",
    "    one_hot[:, :, i][X == unique_value] = 1\n",
    "\n",
    "X = one_hot.reshape(-1, n_feature*X.shape[1])\n",
    "\n",
    "X.shape"
   ]
  },
  {
   "cell_type": "code",
   "execution_count": 8,
   "metadata": {},
   "outputs": [
    {
     "data": {
      "text/plain": [
       "(958, 2)"
      ]
     },
     "execution_count": 8,
     "metadata": {},
     "output_type": "execute_result"
    }
   ],
   "source": [
    "n_feature = 2\n",
    "one_hot = np.zeros((y.shape[0], y.shape[1], n_feature))\n",
    "for i, unique_value in enumerate(np.unique(y)):\n",
    "    one_hot[:, :, i][y == unique_value] = 1\n",
    "\n",
    "y = one_hot.reshape(-1, n_feature*y.shape[1])\n",
    "\n",
    "y.shape"
   ]
  },
  {
   "cell_type": "markdown",
   "metadata": {},
   "source": [
    "## Shuffle"
   ]
  },
  {
   "cell_type": "code",
   "execution_count": 9,
   "metadata": {},
   "outputs": [],
   "source": [
    "# random_state = 0\n",
    "\n",
    "# np.random.seed(random_state)\n",
    "# np.random.shuffle(X)\n",
    "\n",
    "# np.random.seed(random_state)\n",
    "# np.random.shuffle(y)\n",
    "\n",
    "# X.shape, y.shape"
   ]
  },
  {
   "cell_type": "markdown",
   "metadata": {},
   "source": [
    "## Split"
   ]
  },
  {
   "cell_type": "code",
   "execution_count": 10,
   "metadata": {},
   "outputs": [],
   "source": [
    "train_size = 0.8\n",
    "# sample = int(train_split*y.shape[0])\n",
    "\n",
    "# X_train, X_test = X[:sample], X[sample:]\n",
    "# y_train, y_test = y[:sample], y[sample:]\n",
    "\n",
    "# X_train.shape, X_test.shape"
   ]
  },
  {
   "cell_type": "code",
   "execution_count": 11,
   "metadata": {},
   "outputs": [],
   "source": [
    "X_train, X_test, y_train, y_test = train_test_split(X, y, test_size=1 -train_size, random_state=42, stratify=y)"
   ]
  },
  {
   "cell_type": "markdown",
   "metadata": {},
   "source": [
    "## Model"
   ]
  },
  {
   "cell_type": "code",
   "execution_count": 12,
   "metadata": {},
   "outputs": [],
   "source": [
    "def create_model(neurons=(729, 9), lr=0.06, decay=1e-6, momentum=0.9):\n",
    "    model = Sequential()\n",
    "\n",
    "    model.add(Dense(neurons[0], activation='relu', input_shape=(X_train.shape[1:])))\n",
    "    model.add(Dense(neurons[1], activation='relu'))\n",
    "    model.add(Dense(2, activation='sigmoid'))\n",
    "\n",
    "    optimizer = SGD(lr=lr, decay=decay, momentum=momentum, nesterov=True)\n",
    "    model.compile(optimizer=optimizer, loss='binary_crossentropy', metrics=['accuracy'])\n",
    "\n",
    "    return model"
   ]
  },
  {
   "cell_type": "code",
   "execution_count": 13,
   "metadata": {},
   "outputs": [
    {
     "name": "stdout",
     "output_type": "stream",
     "text": [
      "WARNING:tensorflow:From /usr/local/lib/python3.6/dist-packages/tensorflow_core/python/ops/resource_variable_ops.py:1630: calling BaseResourceVariable.__init__ (from tensorflow.python.ops.resource_variable_ops) with constraint is deprecated and will be removed in a future version.\n",
      "Instructions for updating:\n",
      "If using Keras pass *_constraint arguments to layers.\n",
      "WARNING:tensorflow:From /usr/local/lib/python3.6/dist-packages/tensorflow_core/python/ops/nn_impl.py:183: where (from tensorflow.python.ops.array_ops) is deprecated and will be removed in a future version.\n",
      "Instructions for updating:\n",
      "Use tf.where in 2.0, which has the same broadcast rule as np.where\n",
      "Model: \"sequential\"\n",
      "_________________________________________________________________\n",
      "Layer (type)                 Output Shape              Param #   \n",
      "=================================================================\n",
      "dense (Dense)                (None, 729)               20412     \n",
      "_________________________________________________________________\n",
      "dense_1 (Dense)              (None, 9)                 6570      \n",
      "_________________________________________________________________\n",
      "dense_2 (Dense)              (None, 2)                 20        \n",
      "=================================================================\n",
      "Total params: 27,002\n",
      "Trainable params: 27,002\n",
      "Non-trainable params: 0\n",
      "_________________________________________________________________\n"
     ]
    }
   ],
   "source": [
    "model = create_model()\n",
    "model.summary()"
   ]
  },
  {
   "cell_type": "markdown",
   "metadata": {},
   "source": [
    "## Train"
   ]
  },
  {
   "cell_type": "code",
   "execution_count": 14,
   "metadata": {
    "scrolled": true
   },
   "outputs": [
    {
     "name": "stdout",
     "output_type": "stream",
     "text": [
      "Train on 766 samples, validate on 192 samples\n",
      "Epoch 1/128\n",
      "766/766 [==============================] - 0s 188us/sample - loss: 0.5736 - acc: 0.6867 - val_loss: 0.5146 - val_acc: 0.7969\n",
      "Epoch 2/128\n",
      "766/766 [==============================] - 0s 66us/sample - loss: 0.4325 - acc: 0.8003 - val_loss: 0.3193 - val_acc: 0.8490\n",
      "Epoch 3/128\n",
      "766/766 [==============================] - 0s 73us/sample - loss: 0.2310 - acc: 0.9275 - val_loss: 0.1404 - val_acc: 0.9505\n",
      "Epoch 4/128\n",
      "766/766 [==============================] - 0s 67us/sample - loss: 0.0924 - acc: 0.9778 - val_loss: 0.0819 - val_acc: 0.9844\n",
      "Epoch 5/128\n",
      "766/766 [==============================] - 0s 67us/sample - loss: 0.1423 - acc: 0.9582 - val_loss: 0.0826 - val_acc: 0.9896\n",
      "Epoch 6/128\n",
      "766/766 [==============================] - 0s 66us/sample - loss: 0.0581 - acc: 0.9830 - val_loss: 0.0505 - val_acc: 0.9792\n",
      "Epoch 7/128\n",
      "766/766 [==============================] - 0s 72us/sample - loss: 0.0364 - acc: 0.9902 - val_loss: 0.0941 - val_acc: 0.9792\n",
      "Epoch 8/128\n",
      "766/766 [==============================] - 0s 66us/sample - loss: 0.0469 - acc: 0.9824 - val_loss: 0.0583 - val_acc: 0.9792\n",
      "Epoch 9/128\n",
      "766/766 [==============================] - 0s 66us/sample - loss: 0.0380 - acc: 0.9902 - val_loss: 0.1358 - val_acc: 0.9323\n",
      "Epoch 10/128\n",
      "766/766 [==============================] - 0s 70us/sample - loss: 0.0634 - acc: 0.9758 - val_loss: 0.0410 - val_acc: 0.9844\n",
      "Epoch 11/128\n",
      "766/766 [==============================] - 0s 65us/sample - loss: 0.0999 - acc: 0.9700 - val_loss: 0.0335 - val_acc: 0.9896\n",
      "Epoch 12/128\n",
      "766/766 [==============================] - 0s 69us/sample - loss: 0.0499 - acc: 0.9830 - val_loss: 0.0373 - val_acc: 0.9896\n",
      "Epoch 13/128\n",
      "766/766 [==============================] - 0s 66us/sample - loss: 0.0116 - acc: 0.9967 - val_loss: 0.0223 - val_acc: 0.9896\n",
      "Epoch 14/128\n",
      "766/766 [==============================] - 0s 66us/sample - loss: 0.0093 - acc: 0.9954 - val_loss: 0.0209 - val_acc: 0.9948\n",
      "Epoch 15/128\n",
      "766/766 [==============================] - 0s 66us/sample - loss: 0.0067 - acc: 0.9974 - val_loss: 0.0209 - val_acc: 0.9896\n",
      "Epoch 16/128\n",
      "766/766 [==============================] - 0s 72us/sample - loss: 0.0065 - acc: 0.9974 - val_loss: 0.0178 - val_acc: 0.9896\n",
      "Epoch 17/128\n",
      "766/766 [==============================] - 0s 67us/sample - loss: 0.0017 - acc: 1.0000 - val_loss: 0.0163 - val_acc: 0.9896\n",
      "Epoch 18/128\n",
      "766/766 [==============================] - 0s 64us/sample - loss: 6.3224e-04 - acc: 1.0000 - val_loss: 0.0172 - val_acc: 0.9844\n",
      "Epoch 19/128\n",
      "766/766 [==============================] - 0s 65us/sample - loss: 5.2009e-04 - acc: 1.0000 - val_loss: 0.0117 - val_acc: 0.9948\n",
      "Epoch 20/128\n",
      "766/766 [==============================] - 0s 70us/sample - loss: 4.1083e-04 - acc: 1.0000 - val_loss: 0.0119 - val_acc: 0.9948\n",
      "Epoch 21/128\n",
      "766/766 [==============================] - 0s 65us/sample - loss: 3.7905e-04 - acc: 1.0000 - val_loss: 0.0108 - val_acc: 0.9948\n",
      "Epoch 22/128\n",
      "766/766 [==============================] - 0s 75us/sample - loss: 3.3176e-04 - acc: 1.0000 - val_loss: 0.0113 - val_acc: 0.9948\n",
      "Epoch 23/128\n",
      "766/766 [==============================] - 0s 72us/sample - loss: 3.0390e-04 - acc: 1.0000 - val_loss: 0.0107 - val_acc: 0.9948\n",
      "Epoch 24/128\n",
      "766/766 [==============================] - 0s 71us/sample - loss: 2.8046e-04 - acc: 1.0000 - val_loss: 0.0108 - val_acc: 0.9948\n",
      "Epoch 25/128\n",
      "766/766 [==============================] - 0s 73us/sample - loss: 2.5972e-04 - acc: 1.0000 - val_loss: 0.0106 - val_acc: 0.9948\n",
      "Epoch 26/128\n",
      "766/766 [==============================] - 0s 69us/sample - loss: 2.4514e-04 - acc: 1.0000 - val_loss: 0.0108 - val_acc: 0.9948\n",
      "Epoch 27/128\n",
      "766/766 [==============================] - 0s 69us/sample - loss: 2.3231e-04 - acc: 1.0000 - val_loss: 0.0106 - val_acc: 0.9948\n",
      "Epoch 28/128\n",
      "766/766 [==============================] - 0s 68us/sample - loss: 2.1856e-04 - acc: 1.0000 - val_loss: 0.0100 - val_acc: 0.9948\n",
      "Epoch 29/128\n",
      "766/766 [==============================] - 0s 72us/sample - loss: 2.0361e-04 - acc: 1.0000 - val_loss: 0.0101 - val_acc: 0.9948\n",
      "Epoch 30/128\n",
      "766/766 [==============================] - 0s 69us/sample - loss: 1.9555e-04 - acc: 1.0000 - val_loss: 0.0099 - val_acc: 0.9948\n",
      "Epoch 31/128\n",
      "766/766 [==============================] - 0s 78us/sample - loss: 1.8699e-04 - acc: 1.0000 - val_loss: 0.0106 - val_acc: 0.9948\n",
      "Epoch 32/128\n",
      "766/766 [==============================] - 0s 72us/sample - loss: 1.7977e-04 - acc: 1.0000 - val_loss: 0.0095 - val_acc: 0.9948\n",
      "Epoch 33/128\n",
      "766/766 [==============================] - 0s 75us/sample - loss: 1.7254e-04 - acc: 1.0000 - val_loss: 0.0096 - val_acc: 0.9948\n",
      "Epoch 34/128\n",
      "766/766 [==============================] - 0s 67us/sample - loss: 1.6496e-04 - acc: 1.0000 - val_loss: 0.0095 - val_acc: 0.9948\n",
      "Epoch 35/128\n",
      "766/766 [==============================] - 0s 68us/sample - loss: 1.5699e-04 - acc: 1.0000 - val_loss: 0.0096 - val_acc: 0.9948\n",
      "Epoch 36/128\n",
      "766/766 [==============================] - 0s 65us/sample - loss: 1.5367e-04 - acc: 1.0000 - val_loss: 0.0096 - val_acc: 0.9948\n",
      "Epoch 37/128\n",
      "766/766 [==============================] - 0s 68us/sample - loss: 1.4818e-04 - acc: 1.0000 - val_loss: 0.0099 - val_acc: 0.9948\n",
      "Epoch 38/128\n",
      "766/766 [==============================] - 0s 71us/sample - loss: 1.4260e-04 - acc: 1.0000 - val_loss: 0.0094 - val_acc: 0.9948\n",
      "Epoch 39/128\n",
      "766/766 [==============================] - 0s 71us/sample - loss: 1.3748e-04 - acc: 1.0000 - val_loss: 0.0099 - val_acc: 0.9948\n",
      "Epoch 40/128\n",
      "766/766 [==============================] - 0s 70us/sample - loss: 1.3314e-04 - acc: 1.0000 - val_loss: 0.0096 - val_acc: 0.9948\n",
      "Epoch 41/128\n",
      "766/766 [==============================] - 0s 73us/sample - loss: 1.3137e-04 - acc: 1.0000 - val_loss: 0.0100 - val_acc: 0.9948\n",
      "Epoch 42/128\n",
      "766/766 [==============================] - 0s 72us/sample - loss: 1.2631e-04 - acc: 1.0000 - val_loss: 0.0096 - val_acc: 0.9948\n",
      "Epoch 43/128\n",
      "766/766 [==============================] - 0s 72us/sample - loss: 1.2254e-04 - acc: 1.0000 - val_loss: 0.0092 - val_acc: 0.9948\n",
      "Epoch 44/128\n",
      "766/766 [==============================] - 0s 73us/sample - loss: 1.2043e-04 - acc: 1.0000 - val_loss: 0.0097 - val_acc: 0.9948\n",
      "Epoch 45/128\n",
      "766/766 [==============================] - 0s 74us/sample - loss: 1.1567e-04 - acc: 1.0000 - val_loss: 0.0094 - val_acc: 0.9948\n",
      "Epoch 46/128\n",
      "766/766 [==============================] - 0s 74us/sample - loss: 1.1292e-04 - acc: 1.0000 - val_loss: 0.0093 - val_acc: 0.9948\n",
      "Epoch 47/128\n",
      "766/766 [==============================] - 0s 70us/sample - loss: 1.0963e-04 - acc: 1.0000 - val_loss: 0.0094 - val_acc: 0.9948\n",
      "Epoch 48/128\n",
      "766/766 [==============================] - 0s 73us/sample - loss: 1.0741e-04 - acc: 1.0000 - val_loss: 0.0093 - val_acc: 0.9948\n",
      "Epoch 49/128\n",
      "766/766 [==============================] - 0s 71us/sample - loss: 1.0503e-04 - acc: 1.0000 - val_loss: 0.0094 - val_acc: 0.9948\n",
      "Epoch 50/128\n",
      "766/766 [==============================] - 0s 69us/sample - loss: 1.0178e-04 - acc: 1.0000 - val_loss: 0.0092 - val_acc: 0.9948\n",
      "Epoch 51/128\n",
      "766/766 [==============================] - 0s 72us/sample - loss: 1.0049e-04 - acc: 1.0000 - val_loss: 0.0090 - val_acc: 0.9948\n",
      "Epoch 52/128\n",
      "766/766 [==============================] - 0s 66us/sample - loss: 9.7471e-05 - acc: 1.0000 - val_loss: 0.0091 - val_acc: 0.9948\n",
      "Epoch 53/128\n",
      "766/766 [==============================] - 0s 68us/sample - loss: 9.5716e-05 - acc: 1.0000 - val_loss: 0.0092 - val_acc: 0.9948\n",
      "Epoch 54/128\n",
      "766/766 [==============================] - 0s 76us/sample - loss: 9.3444e-05 - acc: 1.0000 - val_loss: 0.0093 - val_acc: 0.9948\n",
      "Epoch 55/128\n",
      "766/766 [==============================] - 0s 69us/sample - loss: 9.1778e-05 - acc: 1.0000 - val_loss: 0.0093 - val_acc: 0.9948\n",
      "Epoch 56/128\n",
      "766/766 [==============================] - 0s 68us/sample - loss: 8.9434e-05 - acc: 1.0000 - val_loss: 0.0092 - val_acc: 0.9948\n",
      "Epoch 57/128\n",
      "766/766 [==============================] - 0s 71us/sample - loss: 8.8274e-05 - acc: 1.0000 - val_loss: 0.0091 - val_acc: 0.9948\n",
      "Epoch 58/128\n",
      "766/766 [==============================] - 0s 68us/sample - loss: 8.6956e-05 - acc: 1.0000 - val_loss: 0.0088 - val_acc: 0.9974\n",
      "Epoch 59/128\n",
      "766/766 [==============================] - 0s 74us/sample - loss: 8.5512e-05 - acc: 1.0000 - val_loss: 0.0092 - val_acc: 0.9948\n",
      "Epoch 60/128\n",
      "766/766 [==============================] - 0s 65us/sample - loss: 8.3769e-05 - acc: 1.0000 - val_loss: 0.0091 - val_acc: 0.9948\n",
      "Epoch 61/128\n",
      "766/766 [==============================] - 0s 76us/sample - loss: 8.1869e-05 - acc: 1.0000 - val_loss: 0.0091 - val_acc: 0.9948\n",
      "Epoch 62/128\n",
      "766/766 [==============================] - 0s 70us/sample - loss: 8.0287e-05 - acc: 1.0000 - val_loss: 0.0089 - val_acc: 0.9948\n",
      "Epoch 63/128\n",
      "766/766 [==============================] - 0s 70us/sample - loss: 7.8653e-05 - acc: 1.0000 - val_loss: 0.0090 - val_acc: 0.9948\n",
      "Epoch 64/128\n",
      "766/766 [==============================] - 0s 72us/sample - loss: 7.7798e-05 - acc: 1.0000 - val_loss: 0.0090 - val_acc: 0.9948\n",
      "Epoch 65/128\n",
      "766/766 [==============================] - 0s 70us/sample - loss: 7.6306e-05 - acc: 1.0000 - val_loss: 0.0090 - val_acc: 0.9948\n",
      "Epoch 66/128\n",
      "766/766 [==============================] - 0s 64us/sample - loss: 7.5142e-05 - acc: 1.0000 - val_loss: 0.0091 - val_acc: 0.9948\n",
      "Epoch 67/128\n",
      "766/766 [==============================] - 0s 69us/sample - loss: 7.3331e-05 - acc: 1.0000 - val_loss: 0.0088 - val_acc: 0.9948\n",
      "Epoch 68/128\n",
      "766/766 [==============================] - 0s 73us/sample - loss: 7.3028e-05 - acc: 1.0000 - val_loss: 0.0090 - val_acc: 0.9948\n",
      "Epoch 69/128\n",
      "766/766 [==============================] - 0s 73us/sample - loss: 7.1326e-05 - acc: 1.0000 - val_loss: 0.0090 - val_acc: 0.9948\n",
      "Epoch 70/128\n",
      "766/766 [==============================] - 0s 71us/sample - loss: 7.0387e-05 - acc: 1.0000 - val_loss: 0.0090 - val_acc: 0.9948\n",
      "Epoch 71/128\n",
      "766/766 [==============================] - 0s 67us/sample - loss: 6.9144e-05 - acc: 1.0000 - val_loss: 0.0087 - val_acc: 0.9974\n",
      "Epoch 72/128\n",
      "766/766 [==============================] - 0s 66us/sample - loss: 6.8212e-05 - acc: 1.0000 - val_loss: 0.0088 - val_acc: 0.9948\n",
      "Epoch 73/128\n",
      "766/766 [==============================] - 0s 69us/sample - loss: 6.6948e-05 - acc: 1.0000 - val_loss: 0.0089 - val_acc: 0.9948\n",
      "Epoch 74/128\n",
      "766/766 [==============================] - 0s 75us/sample - loss: 6.6090e-05 - acc: 1.0000 - val_loss: 0.0089 - val_acc: 0.9948\n",
      "Epoch 75/128\n",
      "766/766 [==============================] - 0s 69us/sample - loss: 6.5256e-05 - acc: 1.0000 - val_loss: 0.0088 - val_acc: 0.9974\n",
      "Epoch 76/128\n",
      "766/766 [==============================] - 0s 71us/sample - loss: 6.4501e-05 - acc: 1.0000 - val_loss: 0.0088 - val_acc: 0.9974\n",
      "Epoch 77/128\n",
      "766/766 [==============================] - 0s 67us/sample - loss: 6.3444e-05 - acc: 1.0000 - val_loss: 0.0088 - val_acc: 0.9974\n",
      "Epoch 78/128\n",
      "766/766 [==============================] - 0s 77us/sample - loss: 6.2403e-05 - acc: 1.0000 - val_loss: 0.0087 - val_acc: 0.9974\n",
      "Epoch 79/128\n",
      "766/766 [==============================] - 0s 72us/sample - loss: 6.1476e-05 - acc: 1.0000 - val_loss: 0.0086 - val_acc: 0.9974\n",
      "Epoch 80/128\n",
      "766/766 [==============================] - 0s 64us/sample - loss: 6.0931e-05 - acc: 1.0000 - val_loss: 0.0090 - val_acc: 0.9948\n",
      "Epoch 81/128\n",
      "766/766 [==============================] - 0s 71us/sample - loss: 5.9754e-05 - acc: 1.0000 - val_loss: 0.0087 - val_acc: 0.9974\n",
      "Epoch 82/128\n",
      "766/766 [==============================] - 0s 70us/sample - loss: 5.9593e-05 - acc: 1.0000 - val_loss: 0.0089 - val_acc: 0.9948\n",
      "Epoch 83/128\n",
      "766/766 [==============================] - 0s 73us/sample - loss: 5.8221e-05 - acc: 1.0000 - val_loss: 0.0084 - val_acc: 1.0000\n",
      "Epoch 84/128\n",
      "766/766 [==============================] - 0s 69us/sample - loss: 5.7909e-05 - acc: 1.0000 - val_loss: 0.0086 - val_acc: 1.0000\n",
      "Epoch 85/128\n",
      "766/766 [==============================] - 0s 71us/sample - loss: 5.6788e-05 - acc: 1.0000 - val_loss: 0.0087 - val_acc: 0.9948\n",
      "Epoch 86/128\n",
      "766/766 [==============================] - 0s 72us/sample - loss: 5.6762e-05 - acc: 1.0000 - val_loss: 0.0084 - val_acc: 1.0000\n",
      "Epoch 87/128\n",
      "766/766 [==============================] - 0s 71us/sample - loss: 5.5389e-05 - acc: 1.0000 - val_loss: 0.0087 - val_acc: 0.9948\n",
      "Epoch 88/128\n",
      "766/766 [==============================] - 0s 69us/sample - loss: 5.5009e-05 - acc: 1.0000 - val_loss: 0.0086 - val_acc: 1.0000\n",
      "Epoch 89/128\n",
      "766/766 [==============================] - 0s 73us/sample - loss: 5.4334e-05 - acc: 1.0000 - val_loss: 0.0088 - val_acc: 0.9974\n",
      "Epoch 90/128\n",
      "766/766 [==============================] - 0s 72us/sample - loss: 5.3517e-05 - acc: 1.0000 - val_loss: 0.0085 - val_acc: 1.0000\n",
      "Epoch 91/128\n",
      "766/766 [==============================] - 0s 73us/sample - loss: 5.3097e-05 - acc: 1.0000 - val_loss: 0.0084 - val_acc: 1.0000\n",
      "Epoch 92/128\n",
      "766/766 [==============================] - 0s 65us/sample - loss: 5.2220e-05 - acc: 1.0000 - val_loss: 0.0087 - val_acc: 0.9974\n",
      "Epoch 93/128\n",
      "766/766 [==============================] - 0s 63us/sample - loss: 5.1842e-05 - acc: 1.0000 - val_loss: 0.0087 - val_acc: 1.0000\n",
      "Epoch 94/128\n",
      "766/766 [==============================] - 0s 68us/sample - loss: 5.1695e-05 - acc: 1.0000 - val_loss: 0.0086 - val_acc: 1.0000\n",
      "Epoch 95/128\n",
      "766/766 [==============================] - 0s 71us/sample - loss: 5.0568e-05 - acc: 1.0000 - val_loss: 0.0085 - val_acc: 1.0000\n",
      "Epoch 96/128\n",
      "766/766 [==============================] - 0s 72us/sample - loss: 5.0427e-05 - acc: 1.0000 - val_loss: 0.0086 - val_acc: 0.9974\n",
      "Epoch 97/128\n",
      "766/766 [==============================] - 0s 68us/sample - loss: 4.9617e-05 - acc: 1.0000 - val_loss: 0.0086 - val_acc: 1.0000\n",
      "Epoch 98/128\n",
      "766/766 [==============================] - 0s 71us/sample - loss: 4.9082e-05 - acc: 1.0000 - val_loss: 0.0085 - val_acc: 1.0000\n",
      "Epoch 99/128\n",
      "766/766 [==============================] - 0s 73us/sample - loss: 4.8340e-05 - acc: 1.0000 - val_loss: 0.0085 - val_acc: 1.0000\n",
      "Epoch 100/128\n",
      "766/766 [==============================] - 0s 72us/sample - loss: 4.7967e-05 - acc: 1.0000 - val_loss: 0.0087 - val_acc: 0.9974\n",
      "Epoch 101/128\n",
      "766/766 [==============================] - 0s 77us/sample - loss: 4.7217e-05 - acc: 1.0000 - val_loss: 0.0085 - val_acc: 1.0000\n",
      "Epoch 102/128\n",
      "766/766 [==============================] - 0s 69us/sample - loss: 4.6808e-05 - acc: 1.0000 - val_loss: 0.0084 - val_acc: 1.0000\n",
      "Epoch 103/128\n",
      "766/766 [==============================] - 0s 68us/sample - loss: 4.6529e-05 - acc: 1.0000 - val_loss: 0.0085 - val_acc: 1.0000\n",
      "Epoch 104/128\n",
      "766/766 [==============================] - 0s 66us/sample - loss: 4.6391e-05 - acc: 1.0000 - val_loss: 0.0085 - val_acc: 1.0000\n",
      "Epoch 105/128\n",
      "766/766 [==============================] - 0s 76us/sample - loss: 4.5531e-05 - acc: 1.0000 - val_loss: 0.0085 - val_acc: 1.0000\n",
      "Epoch 106/128\n",
      "766/766 [==============================] - 0s 72us/sample - loss: 4.4930e-05 - acc: 1.0000 - val_loss: 0.0086 - val_acc: 1.0000\n",
      "Epoch 107/128\n",
      "766/766 [==============================] - 0s 72us/sample - loss: 4.4518e-05 - acc: 1.0000 - val_loss: 0.0085 - val_acc: 1.0000\n",
      "Epoch 108/128\n",
      "766/766 [==============================] - 0s 71us/sample - loss: 4.4063e-05 - acc: 1.0000 - val_loss: 0.0085 - val_acc: 1.0000\n",
      "Epoch 109/128\n",
      "766/766 [==============================] - 0s 72us/sample - loss: 4.3716e-05 - acc: 1.0000 - val_loss: 0.0085 - val_acc: 1.0000\n",
      "Epoch 110/128\n",
      "766/766 [==============================] - 0s 73us/sample - loss: 4.3193e-05 - acc: 1.0000 - val_loss: 0.0085 - val_acc: 1.0000\n",
      "Epoch 111/128\n",
      "766/766 [==============================] - 0s 68us/sample - loss: 4.2914e-05 - acc: 1.0000 - val_loss: 0.0084 - val_acc: 1.0000\n",
      "Epoch 112/128\n",
      "766/766 [==============================] - 0s 71us/sample - loss: 4.2375e-05 - acc: 1.0000 - val_loss: 0.0084 - val_acc: 1.0000\n",
      "Epoch 113/128\n",
      "766/766 [==============================] - 0s 70us/sample - loss: 4.2113e-05 - acc: 1.0000 - val_loss: 0.0084 - val_acc: 1.0000\n",
      "Epoch 114/128\n",
      "766/766 [==============================] - 0s 75us/sample - loss: 4.1709e-05 - acc: 1.0000 - val_loss: 0.0085 - val_acc: 1.0000\n",
      "Epoch 115/128\n",
      "766/766 [==============================] - 0s 70us/sample - loss: 4.1327e-05 - acc: 1.0000 - val_loss: 0.0084 - val_acc: 1.0000\n",
      "Epoch 116/128\n",
      "766/766 [==============================] - 0s 69us/sample - loss: 4.0947e-05 - acc: 1.0000 - val_loss: 0.0084 - val_acc: 1.0000\n",
      "Epoch 117/128\n",
      "766/766 [==============================] - 0s 75us/sample - loss: 4.0488e-05 - acc: 1.0000 - val_loss: 0.0084 - val_acc: 1.0000\n",
      "Epoch 118/128\n",
      "766/766 [==============================] - 0s 68us/sample - loss: 4.0179e-05 - acc: 1.0000 - val_loss: 0.0084 - val_acc: 1.0000\n",
      "Epoch 119/128\n",
      "766/766 [==============================] - 0s 65us/sample - loss: 3.9986e-05 - acc: 1.0000 - val_loss: 0.0085 - val_acc: 1.0000\n",
      "Epoch 120/128\n",
      "766/766 [==============================] - 0s 67us/sample - loss: 3.9345e-05 - acc: 1.0000 - val_loss: 0.0085 - val_acc: 1.0000\n",
      "Epoch 121/128\n",
      "766/766 [==============================] - 0s 71us/sample - loss: 3.9030e-05 - acc: 1.0000 - val_loss: 0.0084 - val_acc: 1.0000\n",
      "Epoch 122/128\n",
      "766/766 [==============================] - 0s 67us/sample - loss: 3.8586e-05 - acc: 1.0000 - val_loss: 0.0084 - val_acc: 1.0000\n",
      "Epoch 123/128\n",
      "766/766 [==============================] - 0s 70us/sample - loss: 3.8443e-05 - acc: 1.0000 - val_loss: 0.0083 - val_acc: 1.0000\n",
      "Epoch 124/128\n",
      "766/766 [==============================] - 0s 68us/sample - loss: 3.7925e-05 - acc: 1.0000 - val_loss: 0.0084 - val_acc: 1.0000\n",
      "Epoch 125/128\n",
      "766/766 [==============================] - 0s 70us/sample - loss: 3.7747e-05 - acc: 1.0000 - val_loss: 0.0083 - val_acc: 1.0000\n",
      "Epoch 126/128\n",
      "766/766 [==============================] - 0s 71us/sample - loss: 3.7377e-05 - acc: 1.0000 - val_loss: 0.0084 - val_acc: 1.0000\n",
      "Epoch 127/128\n",
      "766/766 [==============================] - 0s 70us/sample - loss: 3.7020e-05 - acc: 1.0000 - val_loss: 0.0084 - val_acc: 1.0000\n",
      "Epoch 128/128\n",
      "766/766 [==============================] - 0s 67us/sample - loss: 3.6919e-05 - acc: 1.0000 - val_loss: 0.0083 - val_acc: 1.0000\n"
     ]
    }
   ],
   "source": [
    "batch_size = 16\n",
    "epochs = 128\n",
    "\n",
    "history = model.fit(X_train, y_train, batch_size=batch_size, epochs=epochs, validation_data=(X_test, y_test))"
   ]
  },
  {
   "cell_type": "markdown",
   "metadata": {},
   "source": [
    "## Training accuracy and Training Loss Graph "
   ]
  },
  {
   "cell_type": "code",
   "execution_count": 15,
   "metadata": {
    "scrolled": true
   },
   "outputs": [
    {
     "data": {
      "text/plain": [
       "Text(0, 0.5, 'Training loss')"
      ]
     },
     "execution_count": 15,
     "metadata": {},
     "output_type": "execute_result"
    },
    {
     "data": {
      "image/png": "[encoded data removed]",
      "text/plain": [
       "<Figure size 432x288 with 2 Axes>"
      ]
     },
     "metadata": {
      "needs_background": "light"
     },
     "output_type": "display_data"
    }
   ],
   "source": [
    "fig, ax = plt.subplots(2, sharex=True)\n",
    "\n",
    "ax[0].plot(history.history['acc'], label=model)\n",
    "ax[1].plot(history.history['loss'], label=model)\n",
    " \n",
    "ax[0].set_xlabel('epochs')\n",
    "ax[0].set_ylabel('Training accuracy')\n",
    "ax[1].set_ylabel('Training loss')"
   ]
  },
  {
   "cell_type": "markdown",
   "metadata": {},
   "source": [
    "## Evaluate"
   ]
  },
  {
   "cell_type": "code",
   "execution_count": 16,
   "metadata": {},
   "outputs": [
    {
     "name": "stdout",
     "output_type": "stream",
     "text": [
      "192/192 [==============================] - 0s 17us/sample - loss: 0.0083 - acc: 1.0000\n"
     ]
    }
   ],
   "source": [
    "score = model.evaluate(X_test, y_test)"
   ]
  },
  {
   "cell_type": "markdown",
   "metadata": {},
   "source": [
    "## Confusion Matrix"
   ]
  },
  {
   "cell_type": "code",
   "execution_count": 17,
   "metadata": {},
   "outputs": [
    {
     "data": {
      "text/plain": [
       "array([[ 67,   0],\n",
       "       [  0, 125]])"
      ]
     },
     "execution_count": 17,
     "metadata": {},
     "output_type": "execute_result"
    }
   ],
   "source": [
    "y_test_argmax = y_test.argmax(axis=1)\n",
    "y_pred = model.predict_classes(X_test)\n",
    "confusion_matrix(y_test_argmax, y_pred)"
   ]
  },
  {
   "cell_type": "code",
   "execution_count": 18,
   "metadata": {},
   "outputs": [],
   "source": [
    "def covent_to_matrix(index):\n",
    "    aaa = X_test[index].reshape(-1, 3).argmax(axis=1).astype('U1')\n",
    "    for j, unique_value in enumerate(feature):\n",
    "        aaa[aaa==str(j)] = unique_value\n",
    "\n",
    "    return aaa.reshape(-1, 3)"
   ]
  },
  {
   "cell_type": "code",
   "execution_count": 19,
   "metadata": {},
   "outputs": [],
   "source": [
    "x_failed_index = np.where(y_test_argmax != y_pred)[0]\n",
    "for i in x_failed_index:\n",
    "    print(f'index {i}, y_test {y_test_argmax[i]}, y_pred {y_pred[i]}')\n",
    "    print(covent_to_matrix(i))"
   ]
  },
  {
   "cell_type": "markdown",
   "metadata": {},
   "source": [
    "## Receiver Operating Characteristic"
   ]
  },
  {
   "cell_type": "code",
   "execution_count": 20,
   "metadata": {},
   "outputs": [
    {
     "data": {
      "text/plain": [
       "<matplotlib.legend.Legend at 0x7f22e01784e0>"
      ]
     },
     "execution_count": 20,
     "metadata": {},
     "output_type": "execute_result"
    },
    {
     "data": {
      "image/png": "[encoded data removed]",
      "text/plain": [
       "<Figure size 432x288 with 1 Axes>"
      ]
     },
     "metadata": {
      "needs_background": "light"
     },
     "output_type": "display_data"
    }
   ],
   "source": [
    "fpr, tpr, _ = roc_curve(y_test_argmax,  y_pred)\n",
    "auc = roc_auc_score(y_test_argmax, y_pred)\n",
    "\n",
    "plt.plot(fpr, tpr, marker='.', label=f'AUC: {auc}')\n",
    "plt.legend()"
   ]
  },
  {
   "cell_type": "markdown",
   "metadata": {},
   "source": [
    "## GridSearch"
   ]
  },
  {
   "cell_type": "code",
   "execution_count": 21,
   "metadata": {},
   "outputs": [],
   "source": [
    "param_grid = {\n",
    "    'neurons' : [(16, 16), (32, 32)],\n",
    "    'lr' : [0.01, 0.1],\n",
    "    'momentum' : [0.8, 0.9],\n",
    "    'batch_size' : [8, 16],\n",
    "    'epochs' : [40, 60],\n",
    "}"
   ]
  },
  {
   "cell_type": "code",
   "execution_count": 22,
   "metadata": {
    "scrolled": true
   },
   "outputs": [],
   "source": [
    "# model = KerasClassifier(build_fn=create_model, epochs=epochs, batch_size=batch_size, verbose=0)\n",
    "# grid = GridSearchCV(estimator=model, param_grid=param_grid, n_jobs=-1)\n",
    "# grid_result = grid.fit(X_train, y_train)\n",
    "\n",
    "# print('best score: ', grid_result.best_score_, grid_result.best_params_)\n",
    "\n",
    "# means = grid_result.cv_results_['mean_test_score']\n",
    "# stds = grid_result.cv_results_['std_test_score']\n",
    "# params = grid_result.cv_results_['params']\n",
    "# for mean, stdev, param in zip(means, stds, params):\n",
    "#     print(f'{mean} ({stdev}) with: {param}')"
   ]
  },
  {
   "cell_type": "markdown",
   "metadata": {},
   "source": [
    "## Average test accuracy rate in 12 times"
   ]
  },
  {
   "cell_type": "code",
   "execution_count": 23,
   "metadata": {},
   "outputs": [
    {
     "name": "stdout",
     "output_type": "stream",
     "text": [
      "Train - loss: 2.3894212217521993e-05 - acc: 1.0\n",
      "192/192 [==============================] - 0s 101us/sample - loss: 0.0128 - acc: 0.9948\n",
      "index failed: [101]\n",
      "index 101, y_test 1, y_pred 0\n",
      "[['x' 'x' 'o']\n",
      " ['x' 'o' 'o']\n",
      " ['x' 'o' 'x']]\n",
      "Train - loss: 2.529843993700194e-05 - acc: 1.0\n",
      "192/192 [==============================] - 0s 111us/sample - loss: 0.0106 - acc: 0.9948\n",
      "index failed: [101]\n",
      "index 101, y_test 1, y_pred 0\n",
      "[['x' 'x' 'o']\n",
      " ['x' 'o' 'o']\n",
      " ['x' 'o' 'x']]\n",
      "Train - loss: 3.577303577817985e-05 - acc: 1.0\n",
      "192/192 [==============================] - 0s 123us/sample - loss: 0.0126 - acc: 0.9922\n",
      "index failed: [62]\n",
      "index 62, y_test 0, y_pred 1\n",
      "[['o' 'x' 'x']\n",
      " ['x' 'o' 'o']\n",
      " ['o' 'x' 'x']]\n",
      "Train - loss: 3.2445231647344365e-05 - acc: 1.0\n",
      "192/192 [==============================] - 0s 141us/sample - loss: 0.0063 - acc: 1.0000\n",
      "index failed: []\n",
      "Train - loss: 2.406731722748388e-05 - acc: 1.0\n",
      "192/192 [==============================] - 0s 153us/sample - loss: 0.0103 - acc: 0.9948\n",
      "index failed: [101]\n",
      "index 101, y_test 1, y_pred 0\n",
      "[['x' 'x' 'o']\n",
      " ['x' 'o' 'o']\n",
      " ['x' 'o' 'x']]\n",
      "Train - loss: 3.617285613664979e-05 - acc: 1.0\n",
      "192/192 [==============================] - 0s 166us/sample - loss: 0.0109 - acc: 0.9948\n",
      "index failed: [188]\n",
      "index 188, y_test 0, y_pred 1\n",
      "[['x' 'o' 'x']\n",
      " ['o' 'o' 'x']\n",
      " ['x' 'x' 'o']]\n",
      "Train - loss: 4.048239007447556e-05 - acc: 1.0\n",
      "192/192 [==============================] - 0s 187us/sample - loss: 0.0153 - acc: 0.9948\n",
      "index failed: [62]\n",
      "index 62, y_test 0, y_pred 1\n",
      "[['o' 'x' 'x']\n",
      " ['x' 'o' 'o']\n",
      " ['o' 'x' 'x']]\n",
      "Train - loss: 3.850710078045469e-05 - acc: 1.0\n",
      "192/192 [==============================] - 0s 209us/sample - loss: 0.0103 - acc: 0.9974\n",
      "index failed: [101]\n",
      "index 101, y_test 1, y_pred 0\n",
      "[['x' 'x' 'o']\n",
      " ['x' 'o' 'o']\n",
      " ['x' 'o' 'x']]\n",
      "Train - loss: 2.8930666168139338e-05 - acc: 1.0\n",
      "192/192 [==============================] - 0s 228us/sample - loss: 0.0068 - acc: 1.0000\n",
      "index failed: []\n",
      "Train - loss: 3.955943743593358e-05 - acc: 1.0\n",
      "192/192 [==============================] - 0s 294us/sample - loss: 0.0062 - acc: 1.0000\n",
      "index failed: []\n",
      "Train - loss: 2.772291602213337e-05 - acc: 1.0\n",
      "192/192 [==============================] - 0s 268us/sample - loss: 0.0041 - acc: 1.0000\n",
      "index failed: []\n",
      "Train - loss: 3.441933878941304e-05 - acc: 1.0\n",
      "192/192 [==============================] - 0s 318us/sample - loss: 0.0054 - acc: 1.0000\n",
      "index failed: []\n"
     ]
    },
    {
     "data": {
      "text/plain": [
       "('Max accuracy rate :',\n",
       " 1.0,\n",
       " 'Avg accuracy rate :',\n",
       " 0.99696183,\n",
       " 'Min accuracy rate :',\n",
       " 0.9921875)"
      ]
     },
     "execution_count": 23,
     "metadata": {},
     "output_type": "execute_result"
    }
   ],
   "source": [
    "scores = []\n",
    "\n",
    "for i in range(12):\n",
    "    model = create_model()\n",
    "    history = model.fit(X_train, y_train, batch_size=batch_size, epochs=epochs, verbose=0)\n",
    "    print(f'Train - loss: {history.history[\"loss\"][-1]} - acc: {history.history[\"acc\"][-1]}')\n",
    "\n",
    "    score = model.evaluate(X_test, y_test)\n",
    "    scores.append(score[1])\n",
    "          \n",
    "    y_pred = model.predict_classes(X_test)\n",
    "    x_failed_index = np.where(y_test_argmax != y_pred)[0]\n",
    "          \n",
    "    print('index failed:', x_failed_index)\n",
    "    for i in x_failed_index:\n",
    "        print(f'index {i}, y_test {y_test_argmax[i]}, y_pred {y_pred[i]}')\n",
    "        print(covent_to_matrix(i))\n",
    "          \n",
    "scores = np.array(scores)\n",
    "'Max accuracy rate :', scores.max(), 'Avg accuracy rate :', np.average(scores), 'Min accuracy rate :', scores.min()"
   ]
  },
  {
   "cell_type": "markdown",
   "metadata": {},
   "source": [
    "## Save Weight"
   ]
  },
  {
   "cell_type": "code",
   "execution_count": 24,
   "metadata": {},
   "outputs": [],
   "source": [
    "model.save_weights(\"model.h5\")"
   ]
  }
 ],
 "metadata": {
  "kernelspec": {
   "display_name": "Python 3",
   "language": "python",
   "name": "python3"
  },
  "language_info": {
   "codemirror_mode": {
    "name": "ipython",
    "version": 3
   },
   "file_extension": ".py",
   "mimetype": "text/x-python",
   "name": "python",
   "nbconvert_exporter": "python",
   "pygments_lexer": "ipython3",
   "version": "3.6.9"
  }
 },
 "nbformat": 4,
 "nbformat_minor": 4
}
